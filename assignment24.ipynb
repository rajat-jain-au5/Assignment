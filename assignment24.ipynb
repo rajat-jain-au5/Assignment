{
 "cells": [
  {
   "cell_type": "code",
   "execution_count": 2,
   "id": "7a904028-f694-40d5-9765-4bbd138a1418",
   "metadata": {},
   "outputs": [],
   "source": [
    "import pandas as pd\n",
    "course_name = ['Data Science', 'Machine Learning', 'Big Data', 'Data Engineer']\n",
    "duration = [2,3,6,4]\n",
    "df = pd.DataFrame(data = {'course_name' : course_name, 'duration' : duration})"
   ]
  },
  {
   "cell_type": "code",
   "execution_count": 3,
   "id": "4569486e-e6b8-41cb-ae9a-7dee5866024f",
   "metadata": {},
   "outputs": [
    {
     "data": {
      "text/html": [
       "<div>\n",
       "<style scoped>\n",
       "    .dataframe tbody tr th:only-of-type {\n",
       "        vertical-align: middle;\n",
       "    }\n",
       "\n",
       "    .dataframe tbody tr th {\n",
       "        vertical-align: top;\n",
       "    }\n",
       "\n",
       "    .dataframe thead th {\n",
       "        text-align: right;\n",
       "    }\n",
       "</style>\n",
       "<table border=\"1\" class=\"dataframe\">\n",
       "  <thead>\n",
       "    <tr style=\"text-align: right;\">\n",
       "      <th></th>\n",
       "      <th>course_name</th>\n",
       "      <th>duration</th>\n",
       "    </tr>\n",
       "  </thead>\n",
       "  <tbody>\n",
       "    <tr>\n",
       "      <th>0</th>\n",
       "      <td>Data Science</td>\n",
       "      <td>2</td>\n",
       "    </tr>\n",
       "    <tr>\n",
       "      <th>1</th>\n",
       "      <td>Machine Learning</td>\n",
       "      <td>3</td>\n",
       "    </tr>\n",
       "    <tr>\n",
       "      <th>2</th>\n",
       "      <td>Big Data</td>\n",
       "      <td>6</td>\n",
       "    </tr>\n",
       "    <tr>\n",
       "      <th>3</th>\n",
       "      <td>Data Engineer</td>\n",
       "      <td>4</td>\n",
       "    </tr>\n",
       "  </tbody>\n",
       "</table>\n",
       "</div>"
      ],
      "text/plain": [
       "        course_name  duration\n",
       "0      Data Science         2\n",
       "1  Machine Learning         3\n",
       "2          Big Data         6\n",
       "3     Data Engineer         4"
      ]
     },
     "execution_count": 3,
     "metadata": {},
     "output_type": "execute_result"
    }
   ],
   "source": [
    "df"
   ]
  },
  {
   "cell_type": "code",
   "execution_count": 8,
   "id": "9f0b2117-79dd-4a3a-b790-7731430a131f",
   "metadata": {},
   "outputs": [
    {
     "data": {
      "text/plain": [
       "course_name    Machine Learning\n",
       "duration                      3\n",
       "Name: 1, dtype: object"
      ]
     },
     "execution_count": 8,
     "metadata": {},
     "output_type": "execute_result"
    }
   ],
   "source": [
    "# Q1. Write a code to print the data present in the second row of the dataframe, df.\n",
    "df.iloc[1]"
   ]
  },
  {
   "cell_type": "code",
   "execution_count": null,
   "id": "d476ccd1-c80a-48e7-9eae-f12c9e262d41",
   "metadata": {},
   "outputs": [],
   "source": [
    "Q2. What is the difference between the functions loc and iloc in pandas.DataFrame?\n",
    "ans:\n",
    "The main difference between the two methods is the way they handle indexing:\n",
    "\n",
    "loc is label-based, which means that it uses labels to locate rows or columns in the DataFrame.\n",
    "iloc is integer-based, which means that it uses integers to locate rows or columns in the DataFrame."
   ]
  },
  {
   "cell_type": "code",
   "execution_count": 15,
   "id": "38f42ea0-d383-45d5-aea8-55edb67d23be",
   "metadata": {},
   "outputs": [
    {
     "data": {
      "text/html": [
       "<div>\n",
       "<style scoped>\n",
       "    .dataframe tbody tr th:only-of-type {\n",
       "        vertical-align: middle;\n",
       "    }\n",
       "\n",
       "    .dataframe tbody tr th {\n",
       "        vertical-align: top;\n",
       "    }\n",
       "\n",
       "    .dataframe thead th {\n",
       "        text-align: right;\n",
       "    }\n",
       "</style>\n",
       "<table border=\"1\" class=\"dataframe\">\n",
       "  <thead>\n",
       "    <tr style=\"text-align: right;\">\n",
       "      <th></th>\n",
       "      <th>course_name</th>\n",
       "      <th>duration</th>\n",
       "    </tr>\n",
       "  </thead>\n",
       "  <tbody>\n",
       "    <tr>\n",
       "      <th>3</th>\n",
       "      <td>Data Engineer</td>\n",
       "      <td>4</td>\n",
       "    </tr>\n",
       "    <tr>\n",
       "      <th>0</th>\n",
       "      <td>Data Science</td>\n",
       "      <td>2</td>\n",
       "    </tr>\n",
       "    <tr>\n",
       "      <th>1</th>\n",
       "      <td>Machine Learning</td>\n",
       "      <td>3</td>\n",
       "    </tr>\n",
       "    <tr>\n",
       "      <th>2</th>\n",
       "      <td>Big Data</td>\n",
       "      <td>6</td>\n",
       "    </tr>\n",
       "  </tbody>\n",
       "</table>\n",
       "</div>"
      ],
      "text/plain": [
       "        course_name  duration\n",
       "3     Data Engineer         4\n",
       "0      Data Science         2\n",
       "1  Machine Learning         3\n",
       "2          Big Data         6"
      ]
     },
     "execution_count": 15,
     "metadata": {},
     "output_type": "execute_result"
    }
   ],
   "source": [
    "# Q3. Reindex the given dataframe using a variable, reindex = [3,0,1,2] and store it in the variable, new_df then find the output for both new_df.loc[2] and \n",
    "# new_df.iloc[2].\n",
    "new_df = df.reindex([3,0,1,2])\n",
    "new_df\n"
   ]
  },
  {
   "cell_type": "code",
   "execution_count": 20,
   "id": "702b8f52-73e8-4055-aaca-dbf7ea4383e9",
   "metadata": {},
   "outputs": [
    {
     "data": {
      "text/plain": [
       "course_name    Big Data\n",
       "duration              6\n",
       "Name: 2, dtype: object"
      ]
     },
     "execution_count": 20,
     "metadata": {},
     "output_type": "execute_result"
    }
   ],
   "source": [
    "new_df.loc[2]"
   ]
  },
  {
   "cell_type": "code",
   "execution_count": 21,
   "id": "ff81cd9b-294a-48a7-aa54-6a216a19dc3d",
   "metadata": {},
   "outputs": [
    {
     "data": {
      "text/plain": [
       "course_name    Machine Learning\n",
       "duration                      3\n",
       "Name: 1, dtype: object"
      ]
     },
     "execution_count": 21,
     "metadata": {},
     "output_type": "execute_result"
    }
   ],
   "source": [
    "new_df.iloc[2]"
   ]
  },
  {
   "cell_type": "code",
   "execution_count": null,
   "id": "c839e7e7-5fa5-4246-af93-df4ccc95b2fd",
   "metadata": {},
   "outputs": [],
   "source": [
    "we can see both outputs are different because loc is label bases it gives output according to label whereas \n",
    "iloc is integer based it gives output according to index integer value."
   ]
  },
  {
   "cell_type": "code",
   "execution_count": 23,
   "id": "b50d05c2-0621-4cf3-a94f-5084b3bdee07",
   "metadata": {},
   "outputs": [
    {
     "data": {
      "text/html": [
       "<div>\n",
       "<style scoped>\n",
       "    .dataframe tbody tr th:only-of-type {\n",
       "        vertical-align: middle;\n",
       "    }\n",
       "\n",
       "    .dataframe tbody tr th {\n",
       "        vertical-align: top;\n",
       "    }\n",
       "\n",
       "    .dataframe thead th {\n",
       "        text-align: right;\n",
       "    }\n",
       "</style>\n",
       "<table border=\"1\" class=\"dataframe\">\n",
       "  <thead>\n",
       "    <tr style=\"text-align: right;\">\n",
       "      <th></th>\n",
       "      <th>column_1</th>\n",
       "      <th>column_2</th>\n",
       "      <th>column_3</th>\n",
       "      <th>column_4</th>\n",
       "      <th>column_5</th>\n",
       "      <th>column_6</th>\n",
       "    </tr>\n",
       "  </thead>\n",
       "  <tbody>\n",
       "    <tr>\n",
       "      <th>1</th>\n",
       "      <td>0.158145</td>\n",
       "      <td>0.113920</td>\n",
       "      <td>0.265211</td>\n",
       "      <td>0.619876</td>\n",
       "      <td>0.529375</td>\n",
       "      <td>0.398671</td>\n",
       "    </tr>\n",
       "    <tr>\n",
       "      <th>2</th>\n",
       "      <td>0.197219</td>\n",
       "      <td>0.808769</td>\n",
       "      <td>0.899957</td>\n",
       "      <td>0.687360</td>\n",
       "      <td>0.047868</td>\n",
       "      <td>0.506197</td>\n",
       "    </tr>\n",
       "    <tr>\n",
       "      <th>3</th>\n",
       "      <td>0.583587</td>\n",
       "      <td>0.794615</td>\n",
       "      <td>0.535429</td>\n",
       "      <td>0.308851</td>\n",
       "      <td>0.763582</td>\n",
       "      <td>0.529526</td>\n",
       "    </tr>\n",
       "    <tr>\n",
       "      <th>4</th>\n",
       "      <td>0.544295</td>\n",
       "      <td>0.920772</td>\n",
       "      <td>0.389127</td>\n",
       "      <td>0.061261</td>\n",
       "      <td>0.555023</td>\n",
       "      <td>0.071511</td>\n",
       "    </tr>\n",
       "    <tr>\n",
       "      <th>5</th>\n",
       "      <td>0.647949</td>\n",
       "      <td>0.268568</td>\n",
       "      <td>0.926501</td>\n",
       "      <td>0.418275</td>\n",
       "      <td>0.138407</td>\n",
       "      <td>0.275346</td>\n",
       "    </tr>\n",
       "    <tr>\n",
       "      <th>6</th>\n",
       "      <td>0.879044</td>\n",
       "      <td>0.349514</td>\n",
       "      <td>0.562168</td>\n",
       "      <td>0.911898</td>\n",
       "      <td>0.481642</td>\n",
       "      <td>0.364517</td>\n",
       "    </tr>\n",
       "  </tbody>\n",
       "</table>\n",
       "</div>"
      ],
      "text/plain": [
       "   column_1  column_2  column_3  column_4  column_5  column_6\n",
       "1  0.158145  0.113920  0.265211  0.619876  0.529375  0.398671\n",
       "2  0.197219  0.808769  0.899957  0.687360  0.047868  0.506197\n",
       "3  0.583587  0.794615  0.535429  0.308851  0.763582  0.529526\n",
       "4  0.544295  0.920772  0.389127  0.061261  0.555023  0.071511\n",
       "5  0.647949  0.268568  0.926501  0.418275  0.138407  0.275346\n",
       "6  0.879044  0.349514  0.562168  0.911898  0.481642  0.364517"
      ]
     },
     "execution_count": 23,
     "metadata": {},
     "output_type": "execute_result"
    }
   ],
   "source": [
    "import pandas as pd\n",
    "import numpy as np\n",
    "columns = ['column_1', 'column_2', 'column_3', 'column_4', 'column_5', 'column_6']\n",
    "indices = [1,2,3,4,5,6]\n",
    "#Creating a dataframe:\n",
    "df1 = pd.DataFrame(np.random.rand(6,6), columns = columns, index = indices)\n",
    "df1"
   ]
  },
  {
   "cell_type": "code",
   "execution_count": 25,
   "id": "fa925919-9cc5-4fba-9eec-c0256db29fd1",
   "metadata": {},
   "outputs": [
    {
     "name": "stdout",
     "output_type": "stream",
     "text": [
      "Mean of each column:\n",
      "column_1    0.501707\n",
      "column_2    0.542693\n",
      "column_3    0.596399\n",
      "column_4    0.501253\n",
      "column_5    0.419316\n",
      "column_6    0.357628\n",
      "dtype: float64\n",
      "Standard deviation of column 'column_2':\n",
      "0.33867795758234165\n"
     ]
    }
   ],
   "source": [
    "# Q4. Write a code to find the following statistical measurements for the above dataframe df1:\n",
    "# (i) mean of each and every column present in the dataframe.\n",
    "means = df1.mean()\n",
    "print(\"Mean of each column:\")\n",
    "print(means)\n",
    "\n",
    "# (ii) standard deviation of column, ‘column_2\n",
    "std_dev = df1['column_2'].std()\n",
    "print(\"Standard deviation of column 'column_2':\")\n",
    "print(std_dev)\n"
   ]
  },
  {
   "cell_type": "code",
   "execution_count": 32,
   "id": "1755364d-93f9-411c-b345-b5506d4c326d",
   "metadata": {},
   "outputs": [
    {
     "data": {
      "text/html": [
       "<div>\n",
       "<style scoped>\n",
       "    .dataframe tbody tr th:only-of-type {\n",
       "        vertical-align: middle;\n",
       "    }\n",
       "\n",
       "    .dataframe tbody tr th {\n",
       "        vertical-align: top;\n",
       "    }\n",
       "\n",
       "    .dataframe thead th {\n",
       "        text-align: right;\n",
       "    }\n",
       "</style>\n",
       "<table border=\"1\" class=\"dataframe\">\n",
       "  <thead>\n",
       "    <tr style=\"text-align: right;\">\n",
       "      <th></th>\n",
       "      <th>column_1</th>\n",
       "      <th>column_2</th>\n",
       "      <th>column_3</th>\n",
       "      <th>column_4</th>\n",
       "      <th>column_5</th>\n",
       "      <th>column_6</th>\n",
       "    </tr>\n",
       "  </thead>\n",
       "  <tbody>\n",
       "    <tr>\n",
       "      <th>1</th>\n",
       "      <td>0.158145</td>\n",
       "      <td>0.11392</td>\n",
       "      <td>0.265211</td>\n",
       "      <td>0.619876</td>\n",
       "      <td>0.529375</td>\n",
       "      <td>0.398671</td>\n",
       "    </tr>\n",
       "    <tr>\n",
       "      <th>2</th>\n",
       "      <td>0.197219</td>\n",
       "      <td>string_data</td>\n",
       "      <td>0.899957</td>\n",
       "      <td>0.687360</td>\n",
       "      <td>0.047868</td>\n",
       "      <td>0.506197</td>\n",
       "    </tr>\n",
       "    <tr>\n",
       "      <th>3</th>\n",
       "      <td>0.583587</td>\n",
       "      <td>0.794615</td>\n",
       "      <td>0.535429</td>\n",
       "      <td>0.308851</td>\n",
       "      <td>0.763582</td>\n",
       "      <td>0.529526</td>\n",
       "    </tr>\n",
       "    <tr>\n",
       "      <th>4</th>\n",
       "      <td>0.544295</td>\n",
       "      <td>0.920772</td>\n",
       "      <td>0.389127</td>\n",
       "      <td>0.061261</td>\n",
       "      <td>0.555023</td>\n",
       "      <td>0.071511</td>\n",
       "    </tr>\n",
       "    <tr>\n",
       "      <th>5</th>\n",
       "      <td>0.647949</td>\n",
       "      <td>0.268568</td>\n",
       "      <td>0.926501</td>\n",
       "      <td>0.418275</td>\n",
       "      <td>0.138407</td>\n",
       "      <td>0.275346</td>\n",
       "    </tr>\n",
       "    <tr>\n",
       "      <th>6</th>\n",
       "      <td>0.879044</td>\n",
       "      <td>0.349514</td>\n",
       "      <td>0.562168</td>\n",
       "      <td>0.911898</td>\n",
       "      <td>0.481642</td>\n",
       "      <td>0.364517</td>\n",
       "    </tr>\n",
       "  </tbody>\n",
       "</table>\n",
       "</div>"
      ],
      "text/plain": [
       "   column_1     column_2  column_3  column_4  column_5  column_6\n",
       "1  0.158145      0.11392  0.265211  0.619876  0.529375  0.398671\n",
       "2  0.197219  string_data  0.899957  0.687360  0.047868  0.506197\n",
       "3  0.583587     0.794615  0.535429  0.308851  0.763582  0.529526\n",
       "4  0.544295     0.920772  0.389127  0.061261  0.555023  0.071511\n",
       "5  0.647949     0.268568  0.926501  0.418275  0.138407  0.275346\n",
       "6  0.879044     0.349514  0.562168  0.911898  0.481642  0.364517"
      ]
     },
     "execution_count": 32,
     "metadata": {},
     "output_type": "execute_result"
    }
   ],
   "source": [
    "# Q5. Replace the data present in the second row of column, ‘column_2’ by a string variable then find the\n",
    "# mean of column, column_2.\n",
    "# If you are getting errors in executing it then explain why.\n",
    "# [Hint: To replace the data use df1.loc[] and equate this to string data of your choice.]\n",
    "# Replace the data in the second row of column 'column_2' with a string variable\n",
    "df1.loc[2, 'column_2'] = 'string_data'\n",
    "df1\n",
    "# # Find the mean of column 'column_2'\n",
    "mean = df1['column_2'].mean()\n",
    "we got an TypeError: unsupported operand type(s) for +: 'float' and 'str' because the data type of column_2 is not numeric, and \n",
    "therefore you cannot calculate its mean. In this case, you could convert the values in column_2 to numeric first, and then \n",
    "replace the data in the second row with a numeric value or string value that can be converted to numeric. "
   ]
  },
  {
   "cell_type": "code",
   "execution_count": null,
   "id": "d3803cb8-d151-413c-acf8-6ab85e480864",
   "metadata": {},
   "outputs": [],
   "source": [
    "Q6. What do you understand about the windows function in pandas and list the types of windows\n",
    "functions?\n",
    "ans:\n",
    "In pandas, a window function is a way to perform calculations on a set of rows that are related to the current row. Window functions operate on a sliding window of data, and can be used to calculate running or rolling statistics, as well as other types of calculations.\n",
    "\n",
    "There are several types of window functions in pandas:\n",
    "\n",
    "1) rolling(): This function can be used to perform rolling window calculations on time-series data. It computes a moving window of data and applies a function to the window. The window can be based on a fixed number of rows or a time window.\n",
    "\n",
    "2) expanding(): This function can be used to perform expanding window calculations on time-series data. It computes the value of a function on all the data points seen so far, and includes all previous rows in the calculation.\n",
    "\n",
    "3) ewm(): This function is used to perform exponentially-weighted moving window calculations on time-series data. It computes a moving window of data, where the weights applied to the window decrease exponentially as you move further away from the current point.\n",
    "\n",
    "4) groupby(): This function can be used to group data by a specific column or set of columns, and then apply a window function to each group.\n",
    "\n",
    "5) shift(): This function is used to shift the values in a DataFrame by a specified number of rows. It can be used to calculate differences between consecutive rows or to align data with a different time period.\n",
    "\n",
    "6) rolling_apply(): This function is used to apply a custom function to a rolling window of data. It can be used to perform any type of calculation on a rolling window, as long as the custom function returns a single value.\n",
    "\n",
    "7) rolling_corr(): This function is used to compute the rolling correlation between two variables over a window of data.\n",
    "\n",
    "8) rolling_cov(): This function is used to compute the rolling covariance between two variables over a window of data."
   ]
  },
  {
   "cell_type": "code",
   "execution_count": 35,
   "id": "aff7a76b-257d-4ee7-9dee-ff5afd3a94e3",
   "metadata": {},
   "outputs": [
    {
     "name": "stdout",
     "output_type": "stream",
     "text": [
      "2\n",
      "2023\n"
     ]
    },
    {
     "name": "stderr",
     "output_type": "stream",
     "text": [
      "/tmp/ipykernel_88/2522987711.py:7: FutureWarning: The pandas.datetime class is deprecated and will be removed from pandas in a future version. Import from datetime module instead.\n",
      "  current_time = pd.datetime.now()\n"
     ]
    }
   ],
   "source": [
    "# Q7. Write a code to print only the current month and year at the time of answering this question.\n",
    "# [Hint: Use pandas.datetime function]\n",
    "# ans:\n",
    "import pandas as pd\n",
    "\n",
    "# Get the current date and time\n",
    "current_time = pd.datetime.now()\n",
    "\n",
    "# Extract the month and year from the current time\n",
    "current_month = current_time.month\n",
    "current_year = current_time.year\n",
    "print(current_month)\n",
    "print(current_year)"
   ]
  },
  {
   "cell_type": "code",
   "execution_count": 41,
   "id": "872ffe5f-9291-428d-9362-c949c6e7a526",
   "metadata": {},
   "outputs": [
    {
     "name": "stdin",
     "output_type": "stream",
     "text": [
      "Enter the first date (YYYY-MM-DD):  2023-01-01\n",
      "Enter the second date (YYYY-MM-DD):  2023-01-20\n"
     ]
    },
    {
     "name": "stdout",
     "output_type": "stream",
     "text": [
      "19 days, 0 hours, 0 minutes\n"
     ]
    }
   ],
   "source": [
    "# Q8. Write a Python program that takes in two dates as input (in the format YYYY-MM-DD) and\n",
    "# calculates the difference between them in days, hours, and minutes using Pandas time delta. The\n",
    "# program should prompt the user to enter the dates and display the result.\n",
    "# ans: \n",
    "\n",
    "from datetime import date\n",
    "date1 = input('Enter the first date (YYYY-MM-DD): ')\n",
    "date2 = input('Enter the second date (YYYY-MM-DD): ')\n",
    "\n",
    "# Convert the dates to Pandas Timestamp objects\n",
    "date1 = pd.Timestamp(date1)\n",
    "date2 = pd.Timestamp(date2)\n",
    "time_diff = date2 - date1\n",
    "\n",
    "# Extract the days, hours, and minutes from the time difference\n",
    "days_diff = time_diff.days\n",
    "hours_diff = time_diff.seconds // 3600\n",
    "minutes_diff = (time_diff.seconds % 3600) // 60\n",
    "print(days_diff, 'days,', hours_diff, 'hours,', minutes_diff, 'minutes')"
   ]
  },
  {
   "cell_type": "code",
   "execution_count": null,
   "id": "bea15aed-219b-46e9-bd2a-c13c43f9a26a",
   "metadata": {},
   "outputs": [],
   "source": [
    "# Q9. Write a Python program that reads a CSV file containing categorical data and converts a specified\n",
    "# column to a categorical data type. The program should prompt the user to enter the file path, column\n",
    "# name, and category order, and then display the sorted data.\n",
    "import pandas as pd\n",
    "\n",
    "# Prompt the user for the file path, column name, and category order\n",
    "file_path = input('Enter the file path: ')\n",
    "column_name = input('Enter the name of the column to convert: ')\n",
    "category_order = input('Enter the category order (comma-separated): ')\n",
    "\n",
    "# Read the CSV file into a Pandas DataFrame\n",
    "df = pd.read_csv(file_path)\n",
    "\n",
    "# Convert the specified column to a categorical data type\n",
    "df[column_name] = pd.Categorical(df[column_name], categories=category_order.split(','))\n",
    "\n",
    "# Sort the DataFrame by the specified column\n",
    "df = df.sort_values(by=column_name)\n",
    "\n",
    "# Display the sorted DataFrame to the user\n",
    "df"
   ]
  },
  {
   "cell_type": "code",
   "execution_count": 10,
   "id": "b72607c9-9aa2-414e-b3cf-c79798b940f2",
   "metadata": {},
   "outputs": [
    {
     "name": "stdout",
     "output_type": "stream",
     "text": [
      "        Date Product Category  Sales\n",
      "0 2022-01-01       Category A   1000\n",
      "1 2022-01-01       Category B   2000\n",
      "2 2022-01-01       Category C   1500\n",
      "3 2022-02-01       Category A   1500\n",
      "4 2022-02-01       Category B   2500\n",
      "5 2022-02-01       Category C   1800\n",
      "6 2022-03-01       Category A   2000\n",
      "7 2022-03-01       Category B   3000\n",
      "8 2022-03-01       Category C   2200\n"
     ]
    },
    {
     "data": {
      "text/plain": [
       "Text(0, 0.5, 'Sales')"
      ]
     },
     "execution_count": 10,
     "metadata": {},
     "output_type": "execute_result"
    },
    {
     "data": {
      "image/png": "[encoded data removed]",
      "text/plain": [
       "<Figure size 640x480 with 1 Axes>"
      ]
     },
     "metadata": {},
     "output_type": "display_data"
    }
   ],
   "source": [
    "# Q10. Write a Python program that reads a CSV file containing sales data for different products and\n",
    "# visualizes the data using a stacked bar chart to show the sales of each product category over time. The\n",
    "# program should prompt the user to enter the file path and display the chart.\n",
    "# https://raw.githubusercontent.com/metatron-app/metatron-doc-discovery/master/_static/data/sales-data-sample.csv\n",
    "import pandas as pd\n",
    "\n",
    "# Prompt the user for the file path, column name, and category order\n",
    "file_path = input('Enter the file path: ')\n",
    "\n",
    "# Read the CSV file into a Pandas DataFrame\n",
    "# df = pd.read_csv('./sales_data.csv')\n",
    "df=pd.read_csv(file_path,on_bad_lines='skip')\n",
    "# Convert the 'Date' column to a datetime data type\n",
    "df['Date'] = pd.to_datetime(df['Date'])\n",
    "\n",
    "# Pivot the DataFrame to show sales by product category and date\n",
    "sales_by_product = df.pivot(index='Date', columns='Product Category', values='Sales')\n",
    "print(df)\n",
    "# print(sales_by_product)\n",
    "ax = sales_by_product.plot(kind='bar', stacked=True)\n",
    "ax.set_title('Sales by Product Category')\n",
    "ax.set_ylabel('Sales')\n",
    "# ax\n",
    "# df.plot()"
   ]
  },
  {
   "cell_type": "code",
   "execution_count": 23,
   "id": "86f66e39-fb1a-4309-85cd-699f16272715",
   "metadata": {},
   "outputs": [
    {
     "name": "stdout",
     "output_type": "stream",
     "text": [
      "  Statistic Value\n",
      "0      Mean  79.0\n",
      "1    Median  86.5\n",
      "2      Mode  [92]\n"
     ]
    }
   ],
   "source": [
    "# Q11. You are given a CSV file containing student data that includes the student ID and their test score. Write\n",
    "# a Python program that reads the CSV file, calculates the mean, median, and mode of the test scores, and\n",
    "# displays the results in a table.\n",
    "\n",
    "\n",
    "import pandas as pd\n",
    "file_path = input('Enter file url')\n",
    "# df = pd.read_csv('./student.csv')\n",
    "df=pd.read_csv(file_path)\n",
    "\n",
    "mean = df['test_score'].mean()\n",
    "median = df['test_score'].median()\n",
    "mode = df['test_score'].mode().tolist()\n",
    "\n",
    "# Create a table to display the results\n",
    "results = pd.DataFrame({'Statistic': ['Mean', 'Median', 'Mode'],\n",
    "                        'Value': [mean, median, mode]})\n",
    "\n",
    "# Print the results table\n",
    "print(results)\n"
   ]
  }
 ],
 "metadata": {
  "kernelspec": {
   "display_name": "Python 3 (ipykernel)",
   "language": "python",
   "name": "python3"
  },
  "language_info": {
   "codemirror_mode": {
    "name": "ipython",
    "version": 3
   },
   "file_extension": ".py",
   "mimetype": "text/x-python",
   "name": "python",
   "nbconvert_exporter": "python",
   "pygments_lexer": "ipython3",
   "version": "3.10.8"
  }
 },
 "nbformat": 4,
 "nbformat_minor": 5
}
