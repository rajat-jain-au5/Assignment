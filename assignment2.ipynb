{
 "cells": [
  {
   "cell_type": "code",
   "execution_count": 2,
   "id": "c63b5626-07fd-40a2-87b6-08ffbf483f26",
   "metadata": {},
   "outputs": [
    {
     "name": "stdin",
     "output_type": "stream",
     "text": [
      "Enter percentage 59\n"
     ]
    },
    {
     "name": "stdout",
     "output_type": "stream",
     "text": [
      "Grade D\n"
     ]
    }
   ],
   "source": [
    "# Write a program to accept percentage from user to display the grade according to crteria?\n",
    "percentage = int(input('Enter percentage'))\n",
    "if(percentage > 90) :\n",
    "    print('Grade A')\n",
    "elif(percentage > 80 and percentage <= 90) :\n",
    "    print('Grade B')\n",
    "elif(percentage >= 60 and percentage <= 80) :\n",
    "    print('Grade C')   \n",
    "else :\n",
    "    print('Grade D')\n"
   ]
  },
  {
   "cell_type": "code",
   "execution_count": 4,
   "id": "89ff5f0c-c632-4583-aa19-3932a89b5fd0",
   "metadata": {},
   "outputs": [
    {
     "name": "stdin",
     "output_type": "stream",
     "text": [
      "Enter cost price 1000000\n"
     ]
    },
    {
     "name": "stdout",
     "output_type": "stream",
     "text": [
      "Tax - 15%\n"
     ]
    }
   ],
   "source": [
    "# Write a program to accept cost proce from user to display the tax according to crteria?\n",
    "costprice = int(input('Enter cost price'))\n",
    "if(costprice > 100000) :\n",
    "    print('Tax - 15%')\n",
    "elif(costprice > 50000 and percentage <= 100000) :\n",
    "    print('Tax - 10%')\n",
    "else :\n",
    "    print('Tax - 5%')"
   ]
  },
  {
   "cell_type": "code",
   "execution_count": 10,
   "id": "0081c003-4a4d-400a-a9bd-b2d26bcc8ab9",
   "metadata": {},
   "outputs": [
    {
     "name": "stdin",
     "output_type": "stream",
     "text": [
      "Enter city jaipur\n"
     ]
    },
    {
     "name": "stdout",
     "output_type": "stream",
     "text": [
      "Jal Mahal\n"
     ]
    }
   ],
   "source": [
    "# Write a program to accept city from user to display the monuments according to crteria?\n",
    "city = input('Enter city').capitalize()\n",
    "if(city == 'Delhi') :\n",
    "    print('Red Fort')\n",
    "elif(city == 'Agra') :\n",
    "    print('Taj Mahal')\n",
    "elif(city == 'Jaipur') :\n",
    "    print('Jal Mahal')\n",
    "else :\n",
    "    print('Entered city not exist')"
   ]
  },
  {
   "cell_type": "code",
   "execution_count": 5,
   "id": "82a601bd-3ac2-4ba0-9bc0-e161ebf29d07",
   "metadata": {},
   "outputs": [
    {
     "data": {
      "text/plain": [
       "3"
      ]
     },
     "execution_count": 5,
     "metadata": {},
     "output_type": "execute_result"
    }
   ],
   "source": [
    "# check how many times a given number can divided by 3 before it is less than or equal to 10\n",
    "\n",
    "count=0\n",
    "for i in range(1,11):\n",
    "    if(i%3 == 0):\n",
    "        count= count+1\n",
    "count\n",
    "        \n"
   ]
  },
  {
   "cell_type": "code",
   "execution_count": null,
   "id": "73973511-d223-42a7-9c93-fb7e3b3f17b5",
   "metadata": {},
   "outputs": [],
   "source": [
    "Q.5  Why and when to use while loop in python give a detailed example?\n",
    "ans: while loop is used to run a block code until a certain condition is met. A while loop evaluates the condition. If the condition evaluates to True , \n",
    "     the code inside the while loop is executed.you should use a while loop when you don't know if you even want to run it a single time.\n",
    "     example:- \n",
    "        \n",
    "n=int(input('Enter number'))\n",
    "start=1\n",
    "counter=1\n",
    "\n",
    "while counter <= n :\n",
    "    start=start*counter\n",
    "    counter=counter+1\n",
    "    \n",
    "start"
   ]
  },
  {
   "cell_type": "code",
   "execution_count": 17,
   "id": "fd932d5d-67b6-4852-9a62-019431e8a3b1",
   "metadata": {},
   "outputs": [
    {
     "name": "stdout",
     "output_type": "stream",
     "text": [
      "1\n",
      "* \n",
      "* * \n",
      "* * * \n",
      "* * * * \n",
      "* * * * * \n",
      "2\n",
      "* * * * * \n",
      "* * * * \n",
      "* * * \n",
      "* * \n",
      "* \n",
      "3\n",
      "5 5 5 5 5 \n",
      "4 4 4 4 \n",
      "3 3 3 \n",
      "2 2 \n",
      "1 \n"
     ]
    }
   ],
   "source": [
    "# use nested while loop to print 3 different pattern\n",
    "print('1')\n",
    "i=1\n",
    "while i<=5:\n",
    "    j=1\n",
    "    while j<=i:\n",
    "        print('*',end=\" \")\n",
    "        j=j+1\n",
    "    print(\"\")\n",
    "    i=i+1\n",
    "    \n",
    "print('2')\n",
    "i=5\n",
    "while i>=1:\n",
    "    j=1\n",
    "    while j<=i:\n",
    "        print('*',end=\" \")\n",
    "        j=j+1\n",
    "    print(\"\")\n",
    "    i=i-1\n",
    "    \n",
    "print('3')\n",
    "i=5\n",
    "while i>=1:\n",
    "    j=1\n",
    "    while j<=i:\n",
    "        print(i,end=\" \")\n",
    "        j=j+1\n",
    "    print(\"\")\n",
    "    i=i-1\n",
    "\n",
    "\n"
   ]
  },
  {
   "cell_type": "code",
   "execution_count": null,
   "id": "9a900aec-8788-4fa7-804a-d27897d17df4",
   "metadata": {},
   "outputs": [],
   "source": [
    "# Reverse while loop to display number from 10 to 1\n"
   ]
  }
 ],
 "metadata": {
  "kernelspec": {
   "display_name": "Python 3 (ipykernel)",
   "language": "python",
   "name": "python3"
  },
  "language_info": {
   "codemirror_mode": {
    "name": "ipython",
    "version": 3
   },
   "file_extension": ".py",
   "mimetype": "text/x-python",
   "name": "python",
   "nbconvert_exporter": "python",
   "pygments_lexer": "ipython3",
   "version": "3.10.8"
  }
 },
 "nbformat": 4,
 "nbformat_minor": 5
}
