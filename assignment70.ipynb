{
 "cells": [
  {
   "cell_type": "code",
   "execution_count": 30,
   "id": "1d208887-be13-4377-ba6c-62a91989a4c8",
   "metadata": {},
   "outputs": [
    {
     "name": "stdout",
     "output_type": "stream",
     "text": [
      "The accuracy of the Random Forest Classifier model is: 1.00\n"
     ]
    }
   ],
   "source": [
    "# Q1. You are working on a machine learning project where you have a dataset containing numerical and\n",
    "# categorical features. You have identified that some of the features are highly correlated and there are\n",
    "# missing values in some of the columns. You want to build a pipeline that automates the feature\n",
    "# engineering process and handles the missing valuesD\n",
    "# Design a pipeline that includes the following steps\"\n",
    "# Use an automated feature selection method to identify the important features in the datasetC\n",
    "# Create a numerical pipeline that includes the following steps\"\n",
    "# Impute the missing values in the numerical columns using the mean of the column valuesC\n",
    "# Scale the numerical columns using standardisationC\n",
    "# Create a categorical pipeline that includes the following steps\"\n",
    "# Impute the missing values in the categorical columns using the most frequent value of the columnC\n",
    "# One-hot encode the categorical columnsC\n",
    "# Combine the numerical and categorical pipelines using a ColumnTransformerC\n",
    "# Use a Random Forest Classifier to build the final modelC\n",
    "# Evaluate the accuracy of the model on the test datasetD\n",
    "# Note! Your solution should include code snippets for each step of the pipeline, and a brief explanation of\n",
    "# each step. You should also provide an interpretation of the results and suggest possible improvements for\n",
    "# the pipelineD\n",
    "\n",
    "import seaborn as sns\n",
    "from sklearn.compose import ColumnTransformer\n",
    "from sklearn.ensemble import RandomForestClassifier\n",
    "from sklearn.impute import SimpleImputer\n",
    "from sklearn.pipeline import Pipeline\n",
    "from sklearn.preprocessing import StandardScaler, OneHotEncoder\n",
    "from sklearn.feature_selection import SelectKBest, f_classif\n",
    "from sklearn.model_selection import train_test_split\n",
    "from sklearn.metrics import accuracy_score\n",
    "\n",
    "# Load a dataset from seaborn (Iris dataset)\n",
    "iris = sns.load_dataset('iris')\n",
    "\n",
    "# Separate target variable and predictors\n",
    "X = iris.drop('species', axis=1)\n",
    "y = iris['species']\n",
    "\n",
    "# Split the dataset into training and test sets\n",
    "X_train, X_test, y_train, y_test = train_test_split(X, y, test_size=0.2, random_state=42)\n",
    "\n",
    "# Define the numerical and categorical pipelines\n",
    "num_pipeline = Pipeline([\n",
    "    ('imputer', SimpleImputer(strategy='mean')),\n",
    "    ('scaler', StandardScaler())\n",
    "])\n",
    "\n",
    "cat_pipeline = Pipeline([\n",
    "    ('imputer', SimpleImputer(strategy='most_frequent')),\n",
    "    ('onehot', OneHotEncoder(handle_unknown='ignore'))\n",
    "])\n",
    "\n",
    "# Combine the pipelines using ColumnTransformer\n",
    "preprocessor = ColumnTransformer(transformers=[\n",
    "    ('num', num_pipeline, X.select_dtypes(include=['float', 'int']).columns),\n",
    "    ('cat', cat_pipeline, X.select_dtypes(include=['object']).columns)\n",
    "])\n",
    "\n",
    "# Feature selection using SelectKBest\n",
    "feature_selection = SelectKBest(score_func=f_classif, k=3)\n",
    "\n",
    "# Build the final pipeline with a Random Forest Classifier\n",
    "pipeline = Pipeline([\n",
    "    ('preprocessor', preprocessor),\n",
    "    ('feature_selection', feature_selection),\n",
    "    ('classifier', RandomForestClassifier(random_state=42))\n",
    "])\n",
    "\n",
    "# Fit the pipeline on the training data\n",
    "pipeline.fit(X_train, y_train)\n",
    "\n",
    "# Make predictions on the test data\n",
    "y_pred = pipeline.predict(X_test)\n",
    "\n",
    "# Evaluate the accuracy of the model on the test data\n",
    "accuracy = accuracy_score(y_test, y_pred)\n",
    "print(f'The accuracy of the Random Forest Classifier model is: {accuracy:.2f}')\n",
    "\n"
   ]
  },
  {
   "cell_type": "code",
   "execution_count": null,
   "id": "6c83538a-9a8a-4c67-8671-a6bd288a8043",
   "metadata": {},
   "outputs": [],
   "source": [
    "Q2. Build a pipeline that includes a random forest classifier and a logistic regression classifier, and then\n",
    "use a voting classifier to combine their predictions. Train the pipeline on the iris dataset and evaluate its\n",
    "accuracy."
   ]
  }
 ],
 "metadata": {
  "kernelspec": {
   "display_name": "Python 3 (ipykernel)",
   "language": "python",
   "name": "python3"
  },
  "language_info": {
   "codemirror_mode": {
    "name": "ipython",
    "version": 3
   },
   "file_extension": ".py",
   "mimetype": "text/x-python",
   "name": "python",
   "nbconvert_exporter": "python",
   "pygments_lexer": "ipython3",
   "version": "3.10.8"
  }
 },
 "nbformat": 4,
 "nbformat_minor": 5
}
