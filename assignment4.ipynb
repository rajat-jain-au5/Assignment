{
 "cells": [
  {
   "cell_type": "code",
   "execution_count": 2,
   "id": "fd559014-2553-4e1b-9356-483951fba43b",
   "metadata": {},
   "outputs": [
    {
     "name": "stdout",
     "output_type": "stream",
     "text": [
      "[1, 3, 5, 7, 9, 11, 13, 15, 17, 19, 21, 23, 25]\n"
     ]
    }
   ],
   "source": [
    "Q1. Which keyword is used to create a function? Create a function to return a list of odd numbers in the\n",
    "range of 1 to 25.\n",
    "ans :- 'def' keyword is used create function.\n",
    "\n",
    "# return a list of odd numbers in the range of 1 to 25.\n",
    "def odd_numbers():\n",
    "    odd_list = []\n",
    "    for i in range(1,26):\n",
    "        if i % 2 != 0:\n",
    "            odd_list.append(i)\n",
    "    return odd_list\n",
    "\n",
    "print(odd_numbers())"
   ]
  },
  {
   "cell_type": "code",
   "execution_count": 5,
   "id": "3f3f7345-813c-4e9b-896d-11098b30045f",
   "metadata": {},
   "outputs": [
    {
     "name": "stdout",
     "output_type": "stream",
     "text": [
      "1\n",
      "2\n",
      "3\n",
      "4\n",
      "5\n",
      "name : John\n",
      "age : 35\n",
      "occupation : Engineer\n"
     ]
    }
   ],
   "source": [
    "Q2. Why *args and **kwargs is used in some functions? Create a function each for *args and **kwargs\n",
    "to demonstrate their use.\n",
    "ans:-\n",
    "\n",
    "*args and **kwargs are used in functions to allow the passing of a variable number of arguments.\n",
    "The *args syntax is used to pass a non-keyworded, variable-length argument list. It allows you to pass an arbitrary number of arguments to a function.\n",
    "Here is an example function that demonstrates the use of *args:\n",
    "def arguments(*args):\n",
    "    for arg in args:\n",
    "        print(arg)\n",
    "        \n",
    "arguments(1, 2, 3, 4, 5)\n",
    "\n",
    "The **kwargs syntax is used to pass keyworded, variable-length argument list. It allows you to pass an arbitrary number of keyworded arguments to a function.\n",
    "\n",
    "Here is an example function that demonstrates the use of **kwargs:\n",
    "def keyword_arguments(**kwargs):\n",
    "    for key, value in kwargs.items():\n",
    "        print(f\"{key} : {value}\")\n",
    "        \n",
    "keyword_arguments(name=\"John\", age=35, occupation=\"Engineer\")"
   ]
  },
  {
   "cell_type": "code",
   "execution_count": null,
   "id": "f4839237-8633-4434-97e2-d2ae2fa78665",
   "metadata": {},
   "outputs": [],
   "source": [
    "Q.3 What is an iterator in python? Name the method used to initialise the iterator object and the method\n",
    "used for iteration. Use these methods to print the first five elements of the given list [2, 4, 6, 8, 10, 12, 14,\n",
    "16, 18, 20].\n",
    "ans: An iterator in python is an object that can be iterated upon. It implements two methods:\n",
    "\n",
    "iter(): This method returns the iterator object and is used to initialize the iterator.\n",
    "\n",
    "next(): This method returns the next value from the iterator. If there are no more items to return, it should raise StopIteration.\n",
    "\n",
    "#initialize the iterator object\n",
    "my_list = [2, 4, 6, 8, 10, 12, 14, 16, 18, 20]\n",
    "my_iter = iter(my_list)\n",
    "\n",
    "#print the first five elements\n",
    "for i in range(5):\n",
    "    print(next(my_iter)\n"
   ]
  },
  {
   "cell_type": "code",
   "execution_count": null,
   "id": "9811a850-5eda-419f-9d27-0a88dda7f3e3",
   "metadata": {},
   "outputs": [],
   "source": [
    "Q4. What is a generator function in python? Why yield keyword is used? Give an example of a generator\n",
    "function.\n",
    "ans:- A generator function in python is a function that generates an iterable sequence of values, which can be used to produce a series of values one at a time, \n",
    "instead of generating all values at once.\n",
    "The \"yield\" keyword is used in generator functions because it allows the function to pause execution and return a value. This allows the generator to generate values one by one as they are requested, \n",
    "instead of all at once.\n",
    "Here is an example of a generator function in python:\n",
    "\n",
    "def fibonacci_sequence(n):\n",
    "    a, b = 0, 1\n",
    "    for i in range(n):\n",
    "        yield a\n",
    "        a, b = b, a + b\n",
    "\n",
    "fib = fibonacci_sequence(10)\n",
    "\n",
    "for num in fib:\n",
    "    print(num)"
   ]
  },
  {
   "cell_type": "code",
   "execution_count": 7,
   "id": "7ac59583-c60b-45b5-af38-bb5ae80c2514",
   "metadata": {},
   "outputs": [
    {
     "name": "stdout",
     "output_type": "stream",
     "text": [
      "2\n",
      "3\n",
      "5\n",
      "7\n",
      "11\n",
      "13\n",
      "17\n",
      "19\n",
      "23\n",
      "29\n",
      "31\n",
      "37\n",
      "41\n",
      "43\n",
      "47\n",
      "53\n",
      "59\n",
      "61\n",
      "67\n",
      "71\n"
     ]
    }
   ],
   "source": [
    "Q5. Create a generator function for prime numbers less than 1000. Use the next() method to print the\n",
    "first 20 prime numbers.\n",
    "ans:- \n",
    "def prime_generator():\n",
    "    for num in range(2, 1000):\n",
    "        for i in range(2, num):\n",
    "            if (num % i) == 0:\n",
    "                break\n",
    "        else:\n",
    "            yield num\n",
    "\n",
    "prime_numbers = prime_generator()\n",
    "\n",
    "counter = 0\n",
    "while counter < 20:\n",
    "    print(next(prime_numbers))\n",
    "    counter += 1"
   ]
  },
  {
   "cell_type": "code",
   "execution_count": 9,
   "id": "a4f679d6-d8b3-41f1-aee2-c7422dcf82a3",
   "metadata": {},
   "outputs": [
    {
     "name": "stdout",
     "output_type": "stream",
     "text": [
      "0\n",
      "1\n",
      "1\n",
      "2\n",
      "3\n",
      "5\n",
      "8\n",
      "13\n",
      "21\n",
      "34\n",
      "55\n"
     ]
    }
   ],
   "source": [
    "# Q6. Write a python program to print the first 10 Fibonacci numbers using a while loop.\n",
    "# ans :-\n",
    "\n",
    "a,b=0,1\n",
    "counter=0\n",
    "while counter <= 10 :\n",
    "    print(a)\n",
    "    c=a+b\n",
    "    a=b\n",
    "    b=c\n",
    "    counter=counter+1"
   ]
  },
  {
   "cell_type": "code",
   "execution_count": null,
   "id": "9e57c388-60dc-41ad-9b48-97561ec11e2b",
   "metadata": {},
   "outputs": [],
   "source": [
    "Q7. Write a List Comprehension to iterate through the given string: ‘pwskills’.\n",
    "Expected output: ['p', 'w', 's', 'k', 'i', 'l', 'l', 's']\n",
    "ans:- \n",
    "s='pwskills'\n",
    "[char for char in s]\n"
   ]
  },
  {
   "cell_type": "code",
   "execution_count": 13,
   "id": "16c63bc4-a16b-49e2-aa01-d7d5e69426a9",
   "metadata": {},
   "outputs": [
    {
     "name": "stdin",
     "output_type": "stream",
     "text": [
      "Enter a number:  424\n"
     ]
    },
    {
     "name": "stdout",
     "output_type": "stream",
     "text": [
      "The number is a palindrome.\n"
     ]
    }
   ],
   "source": [
    "Q8. Write a python program to check whether a given number is Palindrome or not using a while loop.\n",
    "ans:- \n",
    "# function to check if the number is palindrome\n",
    "def is_palindrome(num):\n",
    "  original_num = num\n",
    "  reverse_num = 0\n",
    "  while num > 0:\n",
    "    remainder = num % 10\n",
    "    reverse_num = (reverse_num * 10) + remainder\n",
    "    num = num // 10\n",
    "  if original_num == reverse_num:\n",
    "    return True\n",
    "  else:\n",
    "    return False\n",
    "\n",
    "# taking input from the user\n",
    "num = int(input(\"Enter a number: \"))\n",
    "\n",
    "# calling the function and checking if the number is palindrome or not\n",
    "if is_palindrome(num):\n",
    "  print(\"The number is a palindrome.\")\n",
    "else:\n",
    "  print(\"The number is not a palindrome.\")"
   ]
  },
  {
   "cell_type": "code",
   "execution_count": 18,
   "id": "c35c446f-5578-4ac4-87b0-98da4bde52b9",
   "metadata": {},
   "outputs": [
    {
     "data": {
      "text/plain": [
       "[1,\n",
       " 3,\n",
       " 5,\n",
       " 7,\n",
       " 9,\n",
       " 11,\n",
       " 13,\n",
       " 15,\n",
       " 17,\n",
       " 19,\n",
       " 21,\n",
       " 23,\n",
       " 25,\n",
       " 27,\n",
       " 29,\n",
       " 31,\n",
       " 33,\n",
       " 35,\n",
       " 37,\n",
       " 39,\n",
       " 41,\n",
       " 43,\n",
       " 45,\n",
       " 47,\n",
       " 49,\n",
       " 51,\n",
       " 53,\n",
       " 55,\n",
       " 57,\n",
       " 59,\n",
       " 61,\n",
       " 63,\n",
       " 65,\n",
       " 67,\n",
       " 69,\n",
       " 71,\n",
       " 73,\n",
       " 75,\n",
       " 77,\n",
       " 79,\n",
       " 81,\n",
       " 83,\n",
       " 85,\n",
       " 87,\n",
       " 89,\n",
       " 91,\n",
       " 93,\n",
       " 95,\n",
       " 97,\n",
       " 99]"
      ]
     },
     "execution_count": 18,
     "metadata": {},
     "output_type": "execute_result"
    }
   ],
   "source": [
    "Q9. Write a code to print odd numbers from 1 to 100 using list comprehension.\n",
    "l1=[]\n",
    "[l1.append(i) for i in range(100) if i%2 != 0]\n",
    "l1"
   ]
  },
  {
   "cell_type": "code",
   "execution_count": null,
   "id": "5f0c9e65-2182-4634-af79-013fcc900a89",
   "metadata": {},
   "outputs": [],
   "source": []
  }
 ],
 "metadata": {
  "kernelspec": {
   "display_name": "Python 3 (ipykernel)",
   "language": "python",
   "name": "python3"
  },
  "language_info": {
   "codemirror_mode": {
    "name": "ipython",
    "version": 3
   },
   "file_extension": ".py",
   "mimetype": "text/x-python",
   "name": "python",
   "nbconvert_exporter": "python",
   "pygments_lexer": "ipython3",
   "version": "3.10.8"
  }
 },
 "nbformat": 4,
 "nbformat_minor": 5
}
