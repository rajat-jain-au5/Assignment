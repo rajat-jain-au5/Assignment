{
 "cells": [
  {
   "cell_type": "code",
   "execution_count": 2,
   "id": "704d0c85-a3b6-464f-97df-ea44edf0975d",
   "metadata": {},
   "outputs": [
    {
     "name": "stdout",
     "output_type": "stream",
     "text": [
      "0\n",
      "1\n",
      "2\n",
      "3\n"
     ]
    }
   ],
   "source": [
    "Q1.  Explain with an example each when to use a for loop and a while loop.\n",
    "ans: For Loop: A for loop is an iteration method that is best used when you know the number of iterations ahead of time.\n",
    "     While Loop: A while loop is an iteration method that is best used when you don't know the number of iterations ahead of time.\n",
    "# while loop example:-\n",
    "x=0\n",
    "#define a while loop\n",
    "while(x < 4):\n",
    "\tprint(x)\n",
    "\tx = x+1\n",
    "Explanation:- \n",
    "Code Line 4: Variable x is set to 0\n",
    "Code Line 7: While loop checks for condition x<4. The current value of x is 0. Condition is true. Flow of control enters into while Loop\n",
    "Code Line 8: Value of x is printed\n",
    "Code Line 9: x is incremented by 1. Flow of control goes back to line 7. Now the value of x is 1 which is less than 4. The condition is true, and again the while loop is executed. This continues till x becomes 4, and the while condition becomes false.\n",
    "\n",
    "# for loop example\n",
    "Months = [\"Jan\",\"Feb\",\"Mar\",\"April\",\"May\",\"June\"]\n",
    "for m in Months:\n",
    "\tprint(m)\n",
    "Code Line 3: We store the months (“Jan, Feb , Mar,April,May,June”) in variable Months\n",
    "Code Line 4: We iterate the for loop over each value in Months. The current value of Months in stored in variable m\n",
    "Code Line 5: Print the month\n"
   ]
  },
  {
   "cell_type": "code",
   "execution_count": null,
   "id": "6c25c793-c791-45ba-8c64-3ad2095002c8",
   "metadata": {},
   "outputs": [],
   "source": [
    "Q2.  Write a python program to print the sum and product of the first 10 natural numbers using for and while loop.\n",
    "ans:-\n",
    "# print sum and product of first 10 natural numbers by while loop\n",
    "x=0\n",
    "sum=0\n",
    "while(x <= 10):\n",
    "    # print(x)\n",
    "    sum=sum+x\n",
    "    x=x+1\n",
    "sum    \n",
    "\n",
    "y=1\n",
    "product=1\n",
    "while(y <= 10):\n",
    "    print(y)\n",
    "    product=product*y\n",
    "    y=y+1\n",
    "product\n",
    "\n",
    "# print sum and product of first 10 natural numbers by for loop\n",
    "sum = 0\n",
    "n=10\n",
    "for i in range(1, n+1):\n",
    "    sum = sum+i\n",
    "sum   \n",
    "\n",
    "\n",
    "product = 1\n",
    "num=10\n",
    "for i in range(1, num):\n",
    "    product = product*i\n",
    "product \n"
   ]
  },
  {
   "cell_type": "code",
   "execution_count": 3,
   "id": "695d62cc-7daa-456f-9041-1efd853a6e82",
   "metadata": {},
   "outputs": [
    {
     "name": "stdin",
     "output_type": "stream",
     "text": [
      "Enter the units of electricity consumed in a month:  310\n"
     ]
    },
    {
     "name": "stdout",
     "output_type": "stream",
     "text": [
      "The total electricity bill is: Rs. 2250.0\n"
     ]
    }
   ],
   "source": [
    "Q3. Create a python program to compute the electricity bill for a household.\n",
    "The per-unit charges in rupees are as follows: For the first 100 units, the user will be charged Rs. 4.5 per\n",
    "unit, for the next 100 units, the user will be charged Rs. 6 per unit, and for the next 100 units, the user will\n",
    "be charged Rs. 10 per unit, After 300 units and above the user will be charged Rs. 20 per unit.\n",
    "You are required to take the units of electricity consumed in a month from the user as input.\n",
    "Your program must pass this test case: when the unit of electricity consumed by the user in a month is\n",
    "310, the total electricity bill should be 2250.\n",
    "\n",
    "# Define the per-unit charges\n",
    "first_100 = 4.5\n",
    "above_100 = 6\n",
    "above_200 = 10\n",
    "above_300 = 20\n",
    "\n",
    "# Take the units of electricity consumed from the user\n",
    "units = int(input(\"Enter the units of electricity consumed in a month: \"))\n",
    "\n",
    "# Calculate the bill based on the number of units consumed\n",
    "if units <= 100:\n",
    "  bill = units * first_100\n",
    "elif units <= 200:\n",
    "  bill = (100 * first_100) + ((units - 100) * above_100)\n",
    "elif units <= 300:\n",
    "  bill = (100 * first_100) + (100 * above_100) + ((units - 200) * above_200)\n",
    "else:\n",
    "  bill = (100 * first_100) + (100 * above_100) + (100 * above_200) + ((units - 300) * above_300)\n",
    "\n",
    "# Print the final bill\n",
    "print(\"The total electricity bill is: Rs.\", bill)"
   ]
  },
  {
   "cell_type": "code",
   "execution_count": 5,
   "id": "37624df8-d495-4333-8709-901cc0b6a9fa",
   "metadata": {},
   "outputs": [
    {
     "name": "stdout",
     "output_type": "stream",
     "text": [
      "[2, 4, 5, 6, 8, 10, 12, 14, 15, 16, 18, 20, 22, 24, 25, 26, 28, 30, 32, 34, 35, 36, 38, 40, 42, 44, 45, 46, 48, 50, 52, 54, 55, 56, 58, 60, 62, 64, 65, 66, 68, 70, 72, 74, 75, 76, 78, 80, 82, 84, 85, 86, 88, 90, 92, 94, 95, 96, 98, 100]\n",
      "[2, 4, 5, 6, 8, 10, 12, 14, 15, 16, 18, 20, 22, 24, 25, 26, 28, 30, 32, 34, 35, 36, 38, 40, 42, 44, 45, 46, 48, 50, 52, 54, 55, 56, 58, 60, 62, 64, 65, 66, 68, 70, 72, 74, 75, 76, 78, 80, 82, 84, 85, 86, 88, 90, 92, 94, 95, 96, 98, 100]\n"
     ]
    }
   ],
   "source": [
    "Q4. Create a list of numbers from 1 to 100. Use for loop and while loop to calculate the cube of each\n",
    "number and if the cube of that number is divisible by 4 or 5 then append that number in a list and print\n",
    "that list.\n",
    "ans :- \n",
    "# using for loop\n",
    "numbers = []\n",
    "for i in range(1, 101):\n",
    "    cube = i**3\n",
    "    if cube % 4 == 0 or cube % 5 == 0:\n",
    "        numbers.append(i)\n",
    "print(numbers)  \n",
    "\n",
    "# using while loop\n",
    "\n",
    "numbers = []\n",
    "i = 1\n",
    "while i <= 100:\n",
    "    cube = i**3\n",
    "    if cube % 4 == 0 or cube % 5 == 0:\n",
    "        numbers.append(i)\n",
    "    i += 1\n",
    "print(numbers)"
   ]
  },
  {
   "cell_type": "code",
   "execution_count": 6,
   "id": "46c10450-e85c-469d-b60a-bdab9ed572c1",
   "metadata": {},
   "outputs": [
    {
     "name": "stdout",
     "output_type": "stream",
     "text": [
      "The number of vowels in the string is:  12\n"
     ]
    }
   ],
   "source": [
    "Q.5 Write a program to filter count vowels in the below-given string.\n",
    "\n",
    "string = \"I want to become a data scientist\"\n",
    "vowels = \"aeiouAEIOU\"\n",
    "count = 0\n",
    "for char in string:\n",
    "    if char in vowels:\n",
    "        count += 1\n",
    "print(\"The number of vowels in the string is: \", count)"
   ]
  },
  {
   "cell_type": "code",
   "execution_count": null,
   "id": "11dfdf21-af90-4e0a-9b91-ec8fb1d17cea",
   "metadata": {},
   "outputs": [],
   "source": []
  }
 ],
 "metadata": {
  "kernelspec": {
   "display_name": "Python 3 (ipykernel)",
   "language": "python",
   "name": "python3"
  },
  "language_info": {
   "codemirror_mode": {
    "name": "ipython",
    "version": 3
   },
   "file_extension": ".py",
   "mimetype": "text/x-python",
   "name": "python",
   "nbconvert_exporter": "python",
   "pygments_lexer": "ipython3",
   "version": "3.10.8"
  }
 },
 "nbformat": 4,
 "nbformat_minor": 5
}
