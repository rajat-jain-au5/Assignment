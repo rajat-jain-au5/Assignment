{
 "cells": [
  {
   "cell_type": "code",
   "execution_count": 2,
   "id": "79eb6b8e-c824-4e35-9b01-221bc6c636be",
   "metadata": {},
   "outputs": [],
   "source": [
    "import pandas as pd"
   ]
  },
  {
   "cell_type": "code",
   "execution_count": 6,
   "id": "bf52e549-fa1d-4222-b928-d9ded321c7e7",
   "metadata": {},
   "outputs": [
    {
     "data": {
      "text/plain": [
       "0     4\n",
       "1     8\n",
       "2    15\n",
       "3    16\n",
       "4    23\n",
       "5    42\n",
       "dtype: int64"
      ]
     },
     "execution_count": 6,
     "metadata": {},
     "output_type": "execute_result"
    }
   ],
   "source": [
    "# Q1. Create a Pandas Series that contains the following data: 4, 8, 15, 16, 23, and 42. Then, print the series.\n",
    "# ans: \n",
    "list=[4, 8, 15, 16, 23, 42]\n",
    "pd.Series(list)"
   ]
  },
  {
   "cell_type": "code",
   "execution_count": 8,
   "id": "ae2df902-7a73-4018-8e25-e08bf862bbd5",
   "metadata": {},
   "outputs": [
    {
     "name": "stdout",
     "output_type": "stream",
     "text": [
      "0     1\n",
      "1     2\n",
      "2     3\n",
      "3     4\n",
      "4     5\n",
      "5     6\n",
      "6     7\n",
      "7     8\n",
      "8     9\n",
      "9    10\n",
      "dtype: int64\n"
     ]
    }
   ],
   "source": [
    "# Q2. Create a variable of list type containing 10 elements in it, and apply pandas.Series function on the variable print it.\n",
    "# ans:\n",
    "variable=[1,2,3,4,5,6,7,8,9,10]\n",
    "data=pd.Series(variable)\n",
    "print(data)"
   ]
  },
  {
   "cell_type": "code",
   "execution_count": 18,
   "id": "4df983ea-e163-41cf-8d0b-4d11822d1011",
   "metadata": {},
   "outputs": [
    {
     "name": "stdout",
     "output_type": "stream",
     "text": [
      "  Name  Age Gender\n",
      " Alice   25 Female\n",
      "   Bob   30   Male\n",
      "Claire   27 Female\n"
     ]
    }
   ],
   "source": [
    "# Q3. Create a Pandas DataFrame that contains the following data:\n",
    "dict={'Name':['Alice','Bob','Claire'],\n",
    "              'Age':[25,30,27],\n",
    "              'Gender':['Female','Male','Female']\n",
    "        }\n",
    "df=pd.DataFrame(dict)\n",
    "df2 = df.to_string(index=False)\n",
    "print(df2)"
   ]
  },
  {
   "cell_type": "code",
   "execution_count": null,
   "id": "22ada2e7-a00f-4b23-8433-98cde0c1da7f",
   "metadata": {},
   "outputs": [],
   "source": [
    "Q4. What is ‘DataFrame’ in pandas and how is it different from pandas.series? Explain with an example.\n",
    "ans:\n",
    "DataFrame is a two-dimensional labeled data structure in Pandas, which is used for data manipulation and analysis. It is similar to a spreadsheet or SQL table, \n",
    "where data is organized in rows and columns. Each column can have a different data type (such as numeric, string, or boolean), and the rows and columns are both \n",
    "labeled, which makes it easy to access and manipulate data.\n",
    "\n",
    "On the other hand, pandas.Series is a one-dimensional labeled array-like data structure in Pandas, which is used to store a single column or row of data. \n",
    "It is similar to a Python list or NumPy array, but with additional functionalities and labeled indexing.\n",
    "\n",
    "Here an example that illustrates the difference between DataFrame and Series:\n",
    "    \n",
    "import pandas as pd\n",
    "\n",
    "# Creating a DataFrame\n",
    "df = pd.DataFrame({\n",
    "    'Name': ['John', 'Anna', 'Peter', 'Mike'],\n",
    "    'Age': [25, 33, 42, 29],\n",
    "    'Gender': ['M', 'F', 'M', 'M']\n",
    "})\n",
    "\n",
    "# Creating a Series\n",
    "ages = pd.Series([25, 33, 42, 29])\n",
    "\n",
    "# Displaying the DataFrame and Series\n",
    "print(df)\n",
    "print(ages)"
   ]
  },
  {
   "cell_type": "code",
   "execution_count": null,
   "id": "f3e15321-b28f-40d9-a46a-2e006de49dd6",
   "metadata": {},
   "outputs": [],
   "source": [
    "Q5. What are some common functions you can use to manipulate data in a Pandas DataFrame? Can\n",
    "you give an example of when you might use one of these functions?\n",
    "ans:\n",
    "Pandas provides a wide range of functions for manipulating and analyzing data in a DataFrame. Here are some of the most common functions:\n",
    "\n",
    "1) head() and tail() - These functions allow you to view the first or last few rows of a DataFrame. For example, df.head() will return the first five rows of a DataFrame, while df.\n",
    "                       tail() will return the last five rows.\n",
    "\n",
    "2) info() - This function provides information about the DataFrame, including the number of rows and columns, data types, and any missing values.\n",
    "\n",
    "3) describe() - This function provides statistical information about the DataFrame, including the count, mean, standard deviation, minimum, maximum, \n",
    "                and quartile values for each numeric column.\n",
    "\n",
    "4) drop() - This function allows you to remove one or more rows or columns from a DataFrame. For example, df.drop('column_name', axis=1) will drop a column with \n",
    "            the name 'column_name'.\n",
    "\n",
    "5) groupby() - This function allows you to group the data in a DataFrame by one or more columns and perform aggregations on the groups. For example, \n",
    "               df.groupby('column_name').mean() will group the data by values in 'column_name' and return the mean of each group.\n",
    "\n",
    "6) sort_values() - This function allows you to sort the data in a DataFrame by one or more columns. For example, df.sort_values('column_name') will sort \n",
    "                   the data by the values in 'column_name'.\n",
    "\n",
    "7) fillna() - This function allows you to fill missing values in a DataFrame with a specified value or method. For example, df.fillna(0) will replace all \n",
    "              missing values in the DataFrame with 0.\n",
    "\n",
    "8) merge() - This function allows you to join two or more DataFrames based on a common column. For example, pd.merge(df1, df2, on='column_name') will join two \n",
    "             DataFrames based on the values in 'column_name'.\n",
    "\n",
    "9) apply() - This function allows you to apply a function to each element or column of a DataFrame. For example, df['column_name'].apply(lambda x: x*2) will multiply \n",
    "          each value in the column 'column_name' by 2.\n",
    "\n",
    "10)pivot_table() - This function allows you to create a summary table of the data in a DataFrame based on one or more columns. For example, \n",
    "                  pd.pivot_table(df, values='value_column', index='index_column', columns='column_to_group_by') will create a summary table of the data, \n",
    "                  where the rows are grouped by 'index_column', the columns are grouped by 'column_to_group_by', and the values are taken from 'value_column'."
   ]
  },
  {
   "cell_type": "code",
   "execution_count": null,
   "id": "eec13117-4d20-4811-b27f-f756ec4df7e9",
   "metadata": {},
   "outputs": [],
   "source": [
    "Q6. Which of the following is mutable in nature Series, DataFrame, Panel?\n",
    "ans:\n",
    "In Pandas, both Series and DataFrame are mutable, which means you can modify their contents after creation. However, \n",
    "Panel is deprecated in the current version of Pandas (1.3.3) and has been replaced by other data structures like MultiIndex, \n",
    "so it is not relevant to discuss its mutability."
   ]
  }
 ],
 "metadata": {
  "kernelspec": {
   "display_name": "Python 3 (ipykernel)",
   "language": "python",
   "name": "python3"
  },
  "language_info": {
   "codemirror_mode": {
    "name": "ipython",
    "version": 3
   },
   "file_extension": ".py",
   "mimetype": "text/x-python",
   "name": "python",
   "nbconvert_exporter": "python",
   "pygments_lexer": "ipython3",
   "version": "3.10.8"
  }
 },
 "nbformat": 4,
 "nbformat_minor": 5
}
