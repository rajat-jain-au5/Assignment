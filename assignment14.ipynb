{
 "cells": [
  {
   "cell_type": "code",
   "execution_count": null,
   "id": "d241fcdb-7e2b-4938-950e-5a8d9fe74272",
   "metadata": {},
   "outputs": [],
   "source": [
    "Q1. What is multithreading in python? hy is it used? Name the module used to handle threads in python\n",
    "ans: Multithreading in Python refers to the ability of a program to create and manage multiple threads of execution within a single process. Each thread represents a separate flow of control, \n",
    "     with its own stack, instruction pointer, and state. Multithreading is used to improve the performance of a program by allowing it to perform multiple tasks concurrently.\n",
    "     the threading module is used to handle threads in Python. It provides a simple and intuitive API for creating and managing threads, and also includes several synchronization primitives such as locks, semaphores, \n",
    "     and condition variables that can be used to coordinate the activities of multiple threads. \n",
    "     The threading module also provides support for daemonic threads, thread-local data, and other advanced features."
   ]
  },
  {
   "cell_type": "code",
   "execution_count": null,
   "id": "4fe6e4b3-c2bd-4d15-9a0e-d0813f3d3afb",
   "metadata": {},
   "outputs": [],
   "source": [
    "Q2. Why threading module used? rite the use of the following functions\n",
    "1. activeCount\n",
    "2. currentThread\n",
    "3. enumerate\n",
    "ans : The threading module in Python is used to create, manage and synchronize threads of execution. It provides a simple and intuitive API for working with threads, allowing developers to write concurrent programs that are more efficient and responsive.\n",
    "Here are the use cases for the following functions of the threading module:\n",
    "1.activeCount(): This function returns the number of Thread objects that are currently active in the program. An active thread is a thread that has been started and has not yet finished. This function can be used to monitor the number of active threads in a program and \n",
    "                 to ensure that the program does not create too many threads, which can cause performance issues.\n",
    "2.currentThread(): This function returns a reference to the current Thread object, which represents the thread that is currently executing the code. This function can be used to obtain information about the current thread, such as its name, identification number, and other attributes.\n",
    "\n",
    "3.enumerate(): This function returns a list of all Thread objects that are currently active in the program. The list includes the current thread and any other threads that have been started and not yet finished. This function can be used to obtain information about all the threads \n",
    "               that are running in a program, such as their names, identification numbers, and other attributes. The list returned by enumerate() can also be used to monitor the progress of multiple threads in a program and to ensure that they are working together correctly."
   ]
  },
  {
   "cell_type": "code",
   "execution_count": null,
   "id": "41057de4-2b60-48f8-b337-9b981be3d465",
   "metadata": {},
   "outputs": [],
   "source": [
    "Q3. Explain the following functions\n",
    "1.run\n",
    "2.start\n",
    "3.join\n",
    "4.isAlive\n",
    "ans:\n",
    "1.run(): This method is called when a thread is started using the start() method. It is the entry point for the thread's \n",
    "       execution and should be overridden in a subclass to define the code to be run in the thread. The run() method should not be called directly, but only through the start() method.\n",
    "\n",
    "2.start(): This method starts the thread's execution. \n",
    "          It initializes the thread and calls its run() method. Once the start() method is called, the thread is considered to be \"alive\" and its state changes to \"running\".\n",
    "          If the thread has already been started, calling start() again will raise a RuntimeError.\n",
    "\n",
    "3.join(): This method waits for the thread to complete its execution. It blocks the calling thread until the thread being joined completes. If the thread being joined has already finished, the join() method returns immediately. \n",
    "          The join() method can be called with an optional timeout argument, which specifies the maximum time to wait for the thread to complete. If the timeout expires before the thread completes, the method returns.\n",
    "\n",
    "4.isAlive(): This method returns a boolean value indicating whether the thread is currently executing or not. It returns True if the thread is still running or has not yet been started, and False if the thread has completed its execution. \n",
    "             This method can be used to check the status of a thread and to determine whether it is safe to call join() on it\n",
    "        "
   ]
  },
  {
   "cell_type": "code",
   "execution_count": null,
   "id": "b8bb8503-e210-4c6d-a5a4-5f4f2b2457eb",
   "metadata": {},
   "outputs": [],
   "source": [
    "Q4. Write a python program to create two threads. Thread one must print the list of squares and thread\n",
    "two must print the list of cubes.\n",
    "ans:\n",
    "import threading\n",
    "\n",
    "def print_squares():\n",
    "    for i in range(1, 11):\n",
    "        print(f\"{i} squared is {i*i}\")\n",
    "\n",
    "def print_cubes():\n",
    "    for i in range(1, 11):\n",
    "        print(f\"{i} cubed is {i*i*i}\")\n",
    "\n",
    "if __name__ == \"__main__\":\n",
    "    t1 = threading.Thread(target=print_squares)\n",
    "    t2 = threading.Thread(target=print_cubes)\n",
    "\n",
    "    # Start both threads\n",
    "    t1.start()\n",
    "    t2.start()\n",
    "\n",
    "    # Wait for both threads to finish\n",
    "    t1.join()\n",
    "    t2.join()"
   ]
  },
  {
   "cell_type": "code",
   "execution_count": null,
   "id": "0e8ade50-1907-4150-8b16-c3a0080f14a6",
   "metadata": {},
   "outputs": [],
   "source": [
    "Q5. State advantages and disadvantages of multithreading.\n",
    "ans: \n",
    "Multithreading is a powerful technique that allows a program to execute multiple threads of execution concurrently, which can result in several benefits and some drawbacks. Here are the advantages and disadvantages of multithreading:\n",
    "\n",
    "Advantages:\n",
    "\n",
    "1.Improved performance: Multithreading can improve the overall performance of a program by allowing multiple tasks to be executed concurrently. \n",
    "                        This can lead to faster execution times, especially for programs that perform many I/O operations or have multiple CPU-intensive tasks.\n",
    "\n",
    "2.Resource sharing: Multithreading enables the sharing of resources between threads, such as memory, files, and network connections. This can save memory \n",
    "                    and reduce the overhead of opening and closing resources, as they can be shared among multiple threads.\n",
    "\n",
    "3.Better user experience: Multithreading can improve the user experience of a program by providing better responsiveness and interactivity. By executing multiple threads concurrently,\n",
    "                          a program can be more responsive to user input and can provide quicker feedback.\n",
    "\n",
    "Disadvantages:\n",
    "\n",
    "1.Increased complexity: Multithreading can increase the complexity of a program, making it more difficult to design, implement, and debug. Synchronization and coordination between \n",
    "                        threads can be challenging and can introduce new types of bugs, such as race conditions and deadlocks.\n",
    "\n",
    "2.Resource contention: Multithreading can lead to resource contention, where multiple threads compete for the same resource. This can lead to reduced performance and \n",
    "                       can introduce new types of bugs, such as priority inversion.\n",
    "\n",
    "3.Increased memory usage: Multithreading can increase the memory usage of a program, as each thread requires its own stack and other resources. \n",
    "                          This can be a concern for programs that create many threads or run on memory-constrained systems."
   ]
  },
  {
   "cell_type": "code",
   "execution_count": null,
   "id": "fb5f6be1-4fe4-47e3-a051-eeaabffbd36a",
   "metadata": {},
   "outputs": [],
   "source": [
    "Q6. Explain deadlocks and race conditions.\n",
    "ans: \n",
    "Deadlocks and race conditions are two common types of concurrency bugs that can occur in multithreaded programs.\n",
    "\n",
    "Deadlocks: A deadlock occurs when two or more threads are blocked waiting for each other to release a resource that they need to proceed. \n",
    "           This can happen when each thread holds a resource that the other thread needs, and neither thread can proceed until it gets the resource \n",
    "           that is being held by the other thread. Deadlocks can cause the entire program to hang, and they can be difficult to diagnose and debug.\n",
    "Race conditions: A race condition occurs when two or more threads access a shared resource concurrently, and the final outcome depends on the relative timing and interleaving of the threads.\n",
    "                 This can lead to unpredictable behavior and bugs, such as incorrect results or memory corruption.\n",
    "\n"
   ]
  }
 ],
 "metadata": {
  "kernelspec": {
   "display_name": "Python 3 (ipykernel)",
   "language": "python",
   "name": "python3"
  },
  "language_info": {
   "codemirror_mode": {
    "name": "ipython",
    "version": 3
   },
   "file_extension": ".py",
   "mimetype": "text/x-python",
   "name": "python",
   "nbconvert_exporter": "python",
   "pygments_lexer": "ipython3",
   "version": "3.10.8"
  }
 },
 "nbformat": 4,
 "nbformat_minor": 5
}
