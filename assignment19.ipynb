{
 "cells": [
  {
   "cell_type": "code",
   "execution_count": null,
   "id": "9721525f-14e9-4bf8-a0ee-88705a0a7ea0",
   "metadata": {},
   "outputs": [],
   "source": [
    "Q1. Explain GET and POST methods.\n",
    "ans: \n",
    "GET and POST are HTTP methods used to retrieve and send data over the internet.\n",
    "\n",
    "GET is used to retrieve data from a server. When a GET request is sent, the parameters are encoded in the URL. \n",
    "This means that the data is visible in the URL, making it less secure for sensitive information. GET requests are often used \n",
    "to retrieve information from a server, such as a web page or a file. data is sending through URL.\n",
    "\n",
    "POST is used to send data to a server. When a POST request is sent, the parameters are sent in the request body, making it\n",
    "more secure than GET requests. POST requests are often used to submit data to a server, such as a form or user input.\n",
    "data is sending through body\n",
    "\n",
    "    "
   ]
  },
  {
   "cell_type": "code",
   "execution_count": null,
   "id": "5baf45bc-ae5f-4657-b6ce-ac0335eed00a",
   "metadata": {},
   "outputs": [],
   "source": [
    "Q2. Why is request used in Flask?\n",
    "ans: \n",
    "In Flask, the request object is used to access incoming data from a client's HTTP request. The request object is an instance of the Request class, which is created automatically by\n",
    "Flask whenever a client sends a request to the server.\n",
    "\n",
    "The request object provides access to a wide range of information related to the HTTP request, including headers, cookies, form data, and file uploads. \n",
    "By using the request object, Flask developers can easily access and process the data sent by a client's request.\n",
    "\n",
    "Some common uses of the request object in Flask include:\n",
    "\n",
    "1) Accessing form data: Developers can use the request.form attribute to access data submitted in a form, such as user input in a text field or the value of a selected option in a dropdown menu.\n",
    "\n",
    "2) Handling file uploads: The request.files attribute can be used to handle file uploads submitted via a form. Developers can access the uploaded file and perform any necessary processing or validation.\n",
    "\n",
    "3) Accessing HTTP headers: Developers can use the request.headers attribute to access HTTP headers sent with a request, such as the user agent string or the Accept-Language header.\n",
    "\n",
    "4) Handling cookies: The request.cookies attribute can be used to handle cookies sent by the client's request."
   ]
  },
  {
   "cell_type": "code",
   "execution_count": null,
   "id": "7b8deccb-8c47-4346-9521-019a5c7d663d",
   "metadata": {},
   "outputs": [],
   "source": [
    "Q3. Why is redirect() used in Flask?\n",
    "ans: \n",
    "In Flask, the redirect() function is used to redirect the client's browser to a different URL or route. This function is typically used \n",
    "when a user performs an action that requires them to be redirected to a different page, such as after submitting a form or logging in.\n",
    "\n",
    "There are several reasons why redirect() is used in Flask:\n",
    "\n",
    "1) Simplifies the navigation: By redirecting the user to a different page or URL, the developer can simplify the navigation of the website or application.\n",
    "\n",
    "2) Maintains state: When a user is redirected, the state of the application is maintained. This means that any data or information that was previously entered \n",
    "                 or selected by the user is preserved, allowing them to pick up where they left off.\n",
    "\n",
    "3) Security: Redirects can be used to help prevent unauthorized access to certain pages or resources. For example, after a user logs in,\n",
    "          they can be redirected to a page that requires authentication before accessing.\n",
    "\n",
    "4) Flexibility: Redirects can be used to dynamically redirect users to different pages or routes based on various conditions, such as \n",
    "             user's input or authentication status."
   ]
  },
  {
   "cell_type": "code",
   "execution_count": null,
   "id": "e68418f6-b480-4b51-85af-12987b0f49e8",
   "metadata": {},
   "outputs": [],
   "source": [
    "Q4. What are templates in Flask? Why is the render_template() function used?\n",
    "ans:\n",
    "In Flask, templates are used to create dynamic HTML pages that can display data retrieved from a database or other sources. \n",
    "Templates are typically written in a markup language such as HTML or Jinja, and can include placeholders for data that will be inserted at runtime.\n",
    "\n",
    "The render_template() function is used to render a template and generate an HTML page that can be sent to the client's browser. \n",
    "This function takes the name of a template file and any variables that should be passed to the template as arguments."
   ]
  },
  {
   "cell_type": "code",
   "execution_count": null,
   "id": "bbf39a8d-9746-4127-abe8-4f846b2252c7",
   "metadata": {},
   "outputs": [],
   "source": [
    "Q5. Create a simple API. Use Postman to test it. Attach the screenshot of the output in the Jupyter Notebook.\n",
    "ans: \n",
    "from flask import Flask\n",
    "\n",
    "app = Flask(__name__)\n",
    "\n",
    "#\n",
    "\n",
    "@app.route(\"/welcome\")\n",
    "def welcome():\n",
    "    return \"<h1>Welcome to ABC Corporation</h1>\"\n",
    "\n",
    "@app.route(\"/\")\n",
    "def hello_world():\n",
    "    return \"<h1>Company Name: ABC Corporation</h1><h1>Location: India</h1><h1>Contact Detail: 999-999-9999</h1>\"\n",
    "\n",
    "\n",
    "if __name__==\"__main__\":\n",
    "    app.run(host=\"0.0.0.0\")\n",
    "    "
   ]
  }
 ],
 "metadata": {
  "kernelspec": {
   "display_name": "Python 3 (ipykernel)",
   "language": "python",
   "name": "python3"
  },
  "language_info": {
   "codemirror_mode": {
    "name": "ipython",
    "version": 3
   },
   "file_extension": ".py",
   "mimetype": "text/x-python",
   "name": "python",
   "nbconvert_exporter": "python",
   "pygments_lexer": "ipython3",
   "version": "3.10.8"
  }
 },
 "nbformat": 4,
 "nbformat_minor": 5
}
