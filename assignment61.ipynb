{
 "cells": [
  {
   "cell_type": "code",
   "execution_count": null,
   "id": "f594e8c3-dfec-43ef-9c3f-654073ad50ed",
   "metadata": {},
   "outputs": [],
   "source": [
    "Q1. In order to predict house price based on several characteristics, such as location, square footage,\n",
    "number of bedrooms, etc., you are developing an SVM regression model. Which regression metric in this\n",
    "situation would be the best to employ?\n",
    "Dataset link:\n",
    "https://drive.google.com/file/d/1Z9oLpmt6IDRNw7IeNcHYTGeJRYypRSC0/view?usp=share_link\n",
    "ans:\n",
    "In order to evaluate the performance of a support vector machine (SVM) regression model for predicting house prices based on several characteristics, we can \n",
    "use a number of regression metrics. The choice of metric will depend on the specific goals and requirements of the project. However, the most commonly used \n",
    "regression metrics in this context are mean squared error (MSE) and mean absolute error (MAE).\n",
    "\n",
    "Mean squared error (MSE) measures the average squared difference between the predicted and actual values, and penalizes large errors more heavily than small \n",
    "errors. MSE is a good choice of metric when we want to minimize the impact of large errors in our model.\n",
    "\n",
    "Mean absolute error (MAE) measures the average absolute difference between the predicted and actual values, and treats all errors equally. MAE is a good \n",
    "choice of metric when we want to have a better understanding of the magnitude of the errors in our model.\n",
    "\n",
    "In the case of the given dataset, where we are predicting house prices based on multiple features, both MSE and MAE can be used to evaluate the performance of \n",
    "the SVM regression model. However, MSE is more commonly used in this context as it penalizes larger errors more heavily, which is often desired when the goal\n",
    "is to accurately predict prices. Therefore, MSE would be the best metric to employ in this situation.\n"
   ]
  },
  {
   "cell_type": "code",
   "execution_count": null,
   "id": "a2f36c52-8762-43b3-8b30-ada869128075",
   "metadata": {},
   "outputs": [],
   "source": [
    "Q2. You have built an SVM regression model and are trying to decide between using MSE or R-squared as\n",
    "your evaluation metric. Which metric would be more appropriate if your goal is to predict the actual price\n",
    "of a house as accurately as possible?\n",
    "ans:\n",
    "If the goal is to predict the actual price of a house as accurately as possible using an SVM regression model, mean squared error (MSE) would be a better \n",
    "evaluation metric than R-squared.\n",
    "\n",
    "MSE measures the average squared difference between the predicted and actual values, which means that it puts more weight on larger errors. Thus, if the goal \n",
    "is to minimize the impact of large errors in the prediction of house prices, MSE would be more appropriate.\n",
    "\n",
    "On the other hand, R-squared measures the proportion of variance in the dependent variable that can be explained by the independent variables. It is a measure \n",
    "of how well the model fits the data, but it does not directly measure the accuracy of the predictions. Therefore, if the primary goal is to make accurate\n",
    "predictions of house prices, MSE is a more appropriate metric to use."
   ]
  },
  {
   "cell_type": "code",
   "execution_count": null,
   "id": "59965e7d-a253-4822-a768-2dcd719693d4",
   "metadata": {},
   "outputs": [],
   "source": [
    "Q3. You have a dataset with a significant number of outliers and are trying to select an appropriate\n",
    "regression metric to use with your SVM model. Which metric would be the most appropriate in this\n",
    "scenario?\n",
    "ans:\n",
    "In a scenario where there is a significant number of outliers in a dataset, it is recommended to use a robust regression metric that is less sensitive to \n",
    "outliers. Mean Squared Error (MSE), which is a commonly used regression metric, is highly sensitive to outliers because it gives more weight to larger errors.\n",
    "As a result, it can produce misleading results when there are outliers in the dataset.\n",
    "\n",
    "A more appropriate metric to use in this scenario would be the Mean Absolute Error (MAE), which is a robust regression metric that is less sensitive to \n",
    "outliers. MAE calculates the average of the absolute differences between the predicted and actual values, giving equal weight to all errors regardless of \n",
    "their magnitude.\n",
    "\n",
    "Another alternative is to use the Huber loss function, which is a hybrid of MSE and MAE. Huber loss is less sensitive to outliers than MSE, but it still gives \n",
    "some weight to larger errors, making it more robust than MAE"
   ]
  },
  {
   "cell_type": "code",
   "execution_count": null,
   "id": "895e734c-9268-440a-8c2b-f5efd5ea18ce",
   "metadata": {},
   "outputs": [],
   "source": [
    "Q4. You have built an SVM regression model using a polynomial kernel and are trying to select the best\n",
    "metric to evaluate its performance. You have calculated both MSE and RMSE and found that both values\n",
    "are very close. Which metric should you choose to use in this case?\n",
    "ans:\n",
    "In this case, since both MSE and RMSE are very close, either metric can be used to evaluate the performance of the SVM regression model.\n",
    "\n",
    "MSE (Mean Squared Error) and RMSE (Root Mean Squared Error) are both commonly used metrics for evaluating the performance of regression models. MSE calculates\n",
    "the average of the squared differences between the predicted and actual values, while RMSE is the square root of the MSE.\n",
    "\n",
    "RMSE is preferred over MSE when it is important to report errors in the same unit as the target variable. However, if the unit of measurement is not important,\n",
    "and the focus is only on the relative performance of different models, then MSE can be used.\n",
    "\n",
    "Therefore, in this scenario, either MSE or RMSE can be chosen based on personal preference or the context in which the results will be presented."
   ]
  },
  {
   "cell_type": "code",
   "execution_count": null,
   "id": "4e3c04e3-ef98-4968-a365-a7fcb097d730",
   "metadata": {},
   "outputs": [],
   "source": [
    "Q5. You are comparing the performance of different SVM regression models using different kernels (linear,\n",
    "polynomial, and RBF) and are trying to select the best evaluation metric. Which metric would be most\n",
    "appropriate if your goal is to measure how well the model explains the variance in the target variable?\n",
    "ans:\n",
    "If the goal is to measure how well the model explains the variance in the target variable, then the most appropriate evaluation metric is the coefficient of \n",
    "determination or R-squared (R2).\n",
    "\n",
    "R-squared measures the proportion of the variance in the target variable that is explained by the independent variables or features used in the model. It \n",
    "ranges from 0 to 1, where a value of 1 indicates that the model explains all the variance in the target variable, while a value of 0 indicates that the model \n",
    "does not explain any of the variance in the target variable.\n",
    "\n",
    "R-squared is a widely used metric in regression analysis and is applicable to any type of regression model, including SVM regression models using different\n",
    "kernels such as linear, polynomial, and RBF.\n",
    "\n",
    "Therefore, R-squared would be the most appropriate evaluation metric to use when comparing the performance of different SVM regression models using different \n",
    "kernels, especially if the goal is to measure how well the models explain the variance in the target variable."
   ]
  }
 ],
 "metadata": {
  "kernelspec": {
   "display_name": "Python 3 (ipykernel)",
   "language": "python",
   "name": "python3"
  },
  "language_info": {
   "codemirror_mode": {
    "name": "ipython",
    "version": 3
   },
   "file_extension": ".py",
   "mimetype": "text/x-python",
   "name": "python",
   "nbconvert_exporter": "python",
   "pygments_lexer": "ipython3",
   "version": "3.10.8"
  }
 },
 "nbformat": 4,
 "nbformat_minor": 5
}
