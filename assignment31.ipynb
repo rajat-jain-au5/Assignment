{
 "cells": [
  {
   "cell_type": "code",
   "execution_count": null,
   "id": "2a9d90e6-9c46-4e8f-a298-a57e16e5e0ec",
   "metadata": {},
   "outputs": [],
   "source": [
    "Q1. What are the three measures of central tendency?\n",
    "ans:-\n",
    "The three measures of central tendency are:\n",
    "\n",
    "1) Mean: The mean is the arithmetic average of a set of data. It is calculated by adding up all the values in the set and dividing by the total number of values.\n",
    "\n",
    "2) Median: The median is the middle value in a set of data when the values are arranged in order. If there is an even number of values, the median is the average \n",
    "        of the two middle values.\n",
    "\n",
    "3) Mode: The mode is the value that appears most frequently in a set of data. If no value appears more than once, there is no mode. If two or more values appear\n",
    "      with the same frequency, there can be more than one mode."
   ]
  },
  {
   "cell_type": "code",
   "execution_count": null,
   "id": "965f3d3b-0be3-47e6-a051-2868dfb32e59",
   "metadata": {},
   "outputs": [],
   "source": [
    "Q2. What is the difference between the mean, median, and mode? How are they used to measure the central tendency of a dataset?\n",
    "ans:-\n",
    "The mean, median, and mode are all measures of central tendency, but they differ in how they represent the center of a dataset.\n",
    "\n",
    "1) Mean: The mean is the average value of a dataset, and it is calculated by adding up all the values in the dataset and dividing by the total number of values. \n",
    "      The mean can be affected by outliers or extreme values, which can skew the result. The mean is useful when the dataset is normally distributed or when \n",
    "      there are no extreme values.\n",
    "\n",
    "2) Median: The median is the middle value in a dataset, and it is calculated by arranging the values in order and finding the value that lies at the midpoint. \n",
    "        Unlike the mean, the median is not affected by extreme values or outliers, which makes it useful when the dataset contains extreme values or is skewed.\n",
    "\n",
    "3) Mode: The mode is the value that occurs most frequently in a dataset. The mode can be useful when the dataset contains categorical or discrete data, such as \n",
    "      the number of pets a person owns or the type of car they drive.\n",
    "\n",
    "All three measures of central tendency are used to provide a summary of the data and describe the center of the distribution. The choice of which measure to\n",
    "use depends on the nature of the data and the research question being investigated"
   ]
  },
  {
   "cell_type": "code",
   "execution_count": 6,
   "id": "347e8532-f261-4ce3-b95c-7806370390d8",
   "metadata": {},
   "outputs": [
    {
     "name": "stdout",
     "output_type": "stream",
     "text": [
      "mean = 177.01875\n",
      "median = 177.0\n",
      "mode = ModeResult(mode=array([177.]), count=array([3]))\n"
     ]
    },
    {
     "name": "stderr",
     "output_type": "stream",
     "text": [
      "/tmp/ipykernel_77/3874270175.py:9: FutureWarning: Unlike other reduction functions (e.g. `skew`, `kurtosis`), the default behavior of `mode` typically preserves the axis it acts along. In SciPy 1.11.0, this behavior will change: the default value of `keepdims` will become False, the `axis` over which the statistic is taken will be eliminated, and the value None will no longer be accepted. Set `keepdims` to True or False to avoid this warning.\n",
      "  mode=stats.mode(x)\n"
     ]
    }
   ],
   "source": [
    "Q3. Measure the three measures of central tendency for the given height data:\n",
    "[178,177,176,177,178.2,178,175,179,180,175,178.9,176.2,177,172.5,178,176.5]\n",
    "ans:\n",
    "import numpy as np\n",
    "from scipy import stats\n",
    "x=[178,177,176,177,178.2,178,175,179,180,175,178.9,176.2,177,172.5,178,176.5]\n",
    "mean=np.mean(x)\n",
    "median=np.median(x)\n",
    "mode=stats.mode(x)\n",
    "\n",
    "print(f'mean = {mean}')\n",
    "print(f'median = {median}')\n",
    "print(f'mode = {mode}')"
   ]
  },
  {
   "cell_type": "code",
   "execution_count": 7,
   "id": "8751240c-667e-4538-90a8-38ab0c197ab3",
   "metadata": {},
   "outputs": [
    {
     "data": {
      "text/plain": [
       "1.7885814036548633"
      ]
     },
     "execution_count": 7,
     "metadata": {},
     "output_type": "execute_result"
    }
   ],
   "source": [
    "Q4. Find the standard deviation for the given data:\n",
    "x=[178,177,176,177,178.2,178,175,179,180,175,178.9,176.2,177,172.5,178,176.5]\n",
    "np.std(x)"
   ]
  },
  {
   "cell_type": "code",
   "execution_count": null,
   "id": "83365ae8-5727-413f-8023-b1918ef1a90a",
   "metadata": {},
   "outputs": [],
   "source": [
    "Q5. How are measures of dispersion such as range, variance, and standard deviation used to describe the spread of a dataset? Provide an example.\n",
    "ans:-\n",
    "Measures of dispersion such as range, variance, and standard deviation are used to describe the spread of a dataset by providing information about how much the data deviates \n",
    "from the central tendency.\n",
    "\n",
    "1) Range: The range is the difference between the maximum and minimum values in a dataset. It gives an idea of how spread out the data is, but it can be affected by extreme values \n",
    "or outliers. For example, if we have a dataset of salaries that range from $30,000 to $150,000, the range would be $120,000.\n",
    "\n",
    "2) Variance: The variance is a measure of how spread out the data is relative to the mean. It is calculated by taking the average of the squared differences between each data\n",
    "point and the mean. A higher variance indicates that the data is more spread out. For example, if we have a dataset of test scores \n",
    "with a mean of 80 and a variance of 100, it means that the scores are spread out around the mean, with some scores being significantly higher or lower.\n",
    "\n",
    "3) Standard deviation: The standard deviation is the square root of the variance and provides a measure of the average distance of data points from the mean.\n",
    "A higher standard deviation indicates that the data is more spread out. For example, if we have a dataset of heights with a mean of 68 inches and a standard \n",
    "deviation of 3 inches, it means that most people in the dataset have a height within 3 inches of the mean."
   ]
  },
  {
   "cell_type": "code",
   "execution_count": null,
   "id": "e62f93e2-b2c7-4818-bde8-3bc787b1bf39",
   "metadata": {},
   "outputs": [],
   "source": [
    "Q6. What is a Venn diagram?\n",
    "ans:\n",
    "A Venn diagram illustrates the relationships between two or more data sets. Venn diagrams are especially useful for highlighting similarities and differences \n",
    "and are commonly used to compare and contrast the characteristics of different data sets. In a Venn diagram, circles are used to represent each data set."
   ]
  },
  {
   "cell_type": "code",
   "execution_count": 1,
   "id": "4d7b2bba-52d4-44af-a10c-3a2d7406ab2c",
   "metadata": {},
   "outputs": [
    {
     "name": "stdout",
     "output_type": "stream",
     "text": [
      "Intersection of A and B: {2, 6}\n",
      "Union of A and B: {0, 2, 3, 4, 5, 6, 7, 8, 10}\n"
     ]
    }
   ],
   "source": [
    "Q7. For the two given sets A = (2,3,4,5,6,7) & B = (0,2,6,8,10). Find:\n",
    "(i) A ⋂ B\n",
    "(ii) A ⋃ B\n",
    "# Define the sets\n",
    "A = {2, 3, 4, 5, 6, 7}\n",
    "B = {0, 2, 6, 8, 10}\n",
    "\n",
    "# Find the intersection\n",
    "intersection = A.intersection(B)\n",
    "print(\"Intersection of A and B:\", intersection)\n",
    "\n",
    "# Find the union\n",
    "union = A.union(B)\n",
    "print(\"Union of A and B:\", union)\n"
   ]
  },
  {
   "cell_type": "code",
   "execution_count": null,
   "id": "bc9ca8d9-9255-4f91-9daf-883ebfe4ab83",
   "metadata": {},
   "outputs": [],
   "source": [
    "Q8. What do you understand about skewness in data?\n",
    "ans:\n",
    "Skewness is a measure of the asymmetry of a distribution of data. A distribution is considered to be skewed if it is not symmetrical. \n",
    "In other words, the tail of the distribution is pulled towards one direction or the other.\n",
    "\n",
    "There are two types of skewness:\n",
    "\n",
    "Positive skewness: This occurs when the tail of the distribution is pulled towards the right side of the graph, and the mean is greater than the median.\n",
    "\n",
    "Negative skewness: This occurs when the tail of the distribution is pulled towards the left side of the graph, and the mean is less than the median."
   ]
  },
  {
   "cell_type": "code",
   "execution_count": null,
   "id": "7c0c14db-1f09-4006-bd51-ee807d7235ec",
   "metadata": {},
   "outputs": [],
   "source": [
    "Q9. If a data is right skewed then what will be the position of median with respect to mean?\n",
    "ans:\n",
    "If a data distribution is right skewed, the median will be less than the mean. \n",
    "This is because the tail of the distribution is pulled towards the right side, which can cause the mean to be higher than the median."
   ]
  },
  {
   "cell_type": "code",
   "execution_count": null,
   "id": "db8bd2a2-5053-4ca1-be39-2aafc4fd92f8",
   "metadata": {},
   "outputs": [],
   "source": [
    "Q10. Explain the difference between covariance and correlation. How are these measures used in\n",
    "statistical analysis?\n",
    "ans:\n",
    "Covariance and correlation are two common measures used to quantify the relationship between two variables in statistical analysis.\n",
    "\n",
    "The main difference between covariance and correlation is that covariance is a measure of the direction and strength of the linear \n",
    "relationship between two variables, while correlation is a normalized version of covariance that provides a standardized measure of the \n",
    "linear relationship between two variables.\n",
    "Covariance measures how much two variables change together. It is calculated as the average of the product of the deviations of each variable \n",
    "from their respective means:\n",
    "\n",
    "cov(X,Y) = E[(X - E[X])(Y - E[Y])]\n",
    "A positive covariance indicates that the two variables tend to move in the same direction, while a negative covariance indicates that the two \n",
    "variables tend to move in opposite directions. \n",
    "However, the magnitude of the covariance depends on the scale of the variables and cannot be used to compare the strength of the relationship \n",
    "between different pairs of variables.\n",
    "\n",
    "Correlation, on the other hand, is a normalized version of covariance that ranges from -1 to +1. It measures the linear relationship between two variables,\n",
    "while eliminating the effects of the scale of the variables. Correlation is calculated as the ratio of the covariance of two variables to the product of their \n",
    "corr(X,Y) = cov(X,Y) / (std(X) * std(Y))\n",
    "\n"
   ]
  },
  {
   "cell_type": "code",
   "execution_count": null,
   "id": "d65f1b82-8da5-4684-a2f4-e1a00c5ecfee",
   "metadata": {},
   "outputs": [],
   "source": [
    "Q11. What is the formula for calculating the sample mean? Provide an example calculation for a\n",
    "dataset.\n",
    "ans:-\n",
    "The sample mean is a measure of central tendency that represents the average value of a dataset. \n",
    "It is calculated by summing up all the values in the dataset and dividing by the total number of values. \n",
    "The formula for calculating the sample mean is:\n",
    "\n",
    "sample mean = (sum of all values in the dataset) / (total number of values in the dataset)\n",
    "\n",
    "x=5, 7, 3, 2, 8, 9, 4, 6, 1, 10\n",
    "sum = 5 + 7 + 3 + 2 + 8 + 9 + 4 + 6 + 1 + 10 = 55\n",
    "sample mean = sum / 10 = 55 / 10 = 5.5"
   ]
  },
  {
   "cell_type": "code",
   "execution_count": null,
   "id": "d64045d0-65b0-41d4-a119-56634f697a89",
   "metadata": {},
   "outputs": [],
   "source": [
    "Q12. For a normal distribution data what is the relationship between its measure of central tendency?\n",
    "ans:\n",
    "For a normal distribution, the mean, median, and mode are all equal. This means that the measure of central tendency is the same regardless of which of these measures is used.\n",
    "\n",
    "This is because a normal distribution is a symmetric distribution, with the majority of the data clustered around the mean. As a result, the median and mode are also located at the same point as the mean.\n",
    "\n",
    "In practical terms, this means that if we have a dataset that follows a normal distribution, we can use any of these measures of central tendency to describe the data.\n",
    "The choice of which measure to use may depend on the nature of the data or the purpose of the analysis.\n",
    "\n",
    "For example, if the data contains outliers, the median may be a better measure of central tendency as it is less affected by extreme values. However,\n",
    "if the data is well-behaved and normally distributed, the mean may be a good choice as \n",
    "it takes into account all values in the dataset."
   ]
  },
  {
   "cell_type": "code",
   "execution_count": null,
   "id": "2eb4d006-1d14-4ce0-a683-273ecc1ec9d8",
   "metadata": {},
   "outputs": [],
   "source": [
    "Q13. How is covariance different from correlation?\n",
    "ans:\n",
    "Covariance and correlation are both measures of the relationship between two variables, but they have some important differences:\n",
    "\n",
    "Definition: Covariance is a measure of how two variables change together, while correlation is a measure of the strength and direction of the linear relationship between two variables.\n",
    "\n",
    "Scale: Covariance can take on any value, while correlation ranges between -1 and +1.\n",
    "\n",
    "Interpretation: Covariance can be difficult to interpret because its magnitude depends on the scale of the variables being measured, while correlation is a standardized measure that is easier to interpret.\n",
    "\n",
    "Units: Covariance is expressed in the units of the product of the two variables being measured, while correlation is a dimensionless quantity.\n",
    "\n",
    "Calculation: Covariance is calculated as the average of the product of the deviations of each variable from their respective means, while correlation is calculated as the ratio of the \n",
    "covariance of two variables to the product of their standard deviations.\n",
    "\n",
    "In summary, covariance measures how much two variables change together, while correlation measures the strength and direction of the linear relationship between two variables, standardized for scale and easier to interpret."
   ]
  },
  {
   "cell_type": "code",
   "execution_count": null,
   "id": "cdb9e05b-0e96-4338-b605-cc56a53197e6",
   "metadata": {},
   "outputs": [],
   "source": [
    "Q14. How do outliers affect measures of central tendency and dispersion? Provide an example.\n",
    "Outliers can have a significant impact on measures of central tendency and dispersion, and can lead to misleading conclusions about a dataset. \n",
    "An outlier is a data point that lies significantly outside the range of other observations in a dataset.\n",
    "\n",
    "Outliers can affect measures of central tendency, such as the mean and median, by pulling them towards the direction of the outlier. \n",
    "This can result in a skewed distribution that does not accurately represent the typical values in the dataset. For example, if we have a \n",
    "dataset of test scores with one outlier score of 95, the mean will be higher than the median, which can make it appear as though the majority \n",
    "of students scored higher than they actually did.\n",
    "\n",
    "Outliers can also affect measures of dispersion, such as the range, standard deviation, and variance. These measures are sensitive to extreme \n",
    "values and can be inflated by the presence of outliers. For example, if we have a dataset of salaries that includes one extremely high outlier \n",
    "salary, the range, standard deviation, and variance will all be larger than they would be without the outlier.\n",
    "\n",
    "x=200, 300, 250, 220, 280, 240, 300, 250, 230, 1000\n",
    "With outlier: mean = 327.5, median = 250, range = 900, standard deviation = 250.8\n",
    "Without outlier: mean = 246.7, median = 245, range = 80, standard deviation = 43.5\n"
   ]
  }
 ],
 "metadata": {
  "kernelspec": {
   "display_name": "Python 3 (ipykernel)",
   "language": "python",
   "name": "python3"
  },
  "language_info": {
   "codemirror_mode": {
    "name": "ipython",
    "version": 3
   },
   "file_extension": ".py",
   "mimetype": "text/x-python",
   "name": "python",
   "nbconvert_exporter": "python",
   "pygments_lexer": "ipython3",
   "version": "3.10.8"
  }
 },
 "nbformat": 4,
 "nbformat_minor": 5
}
