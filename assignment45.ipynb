{
 "cells": [
  {
   "cell_type": "code",
   "execution_count": 1,
   "id": "2c8138c2-0186-4af4-bce9-66c9fa6f7396",
   "metadata": {},
   "outputs": [
    {
     "name": "stdout",
     "output_type": "stream",
     "text": [
      "Pearson correlation coefficient: 1.0\n"
     ]
    }
   ],
   "source": [
    "# Q1. Pearson correlation coefficient is a measure of the linear relationship between two variables. Suppose\n",
    "# you have collected data on the amount of time students spend studying for an exam and their final exam\n",
    "# scores. Calculate the Pearson correlation coefficient between these two variables and interpret the result.\n",
    "# ans:\n",
    "# r = cov(X,Y) / (sd(X) * sd(Y))\n",
    "import numpy as np\n",
    "\n",
    "# Example data\n",
    "time_spent_studying = [10, 20, 30, 40, 50]\n",
    "exam_scores = [60, 70, 80, 90, 100]\n",
    "\n",
    "# Calculate Pearson correlation coefficient\n",
    "r = np.corrcoef(time_spent_studying, exam_scores)[0, 1]\n",
    "\n",
    "print(\"Pearson correlation coefficient:\", r)"
   ]
  },
  {
   "cell_type": "code",
   "execution_count": 2,
   "id": "4bf7fa7f-3948-4cc8-b901-c624a6238c94",
   "metadata": {},
   "outputs": [
    {
     "name": "stdout",
     "output_type": "stream",
     "text": [
      "Spearman's rank correlation coefficient: 0.9386679716361958\n"
     ]
    }
   ],
   "source": [
    "# Q2. Spearman's rank correlation is a measure of the monotonic relationship between two variables.\n",
    "# Suppose you have collected data on the amount of sleep individuals get each night and their overall job\n",
    "# satisfaction level on a scale of 1 to 10. Calculate the Spearman's rank correlation between these two\n",
    "# variables and interpret the result.\n",
    "# ans:\n",
    "# To calculate the Spearman's rank correlation between two variables, we need to first convert the data to ranks and then use these ranks to calculate the \n",
    "# correlation coefficient using the formula:\n",
    "\n",
    "# rs = 1 - (6 * sum(d^2) / (n * (n^2 - 1)))\n",
    "from scipy.stats import spearmanr\n",
    "\n",
    "# Example data\n",
    "sleep = [7, 8, 6, 5, 7, 9, 6, 8]\n",
    "job_satisfaction = [8, 9, 5, 6, 7, 10, 6, 9]\n",
    "\n",
    "# Calculate Spearman's rank correlation coefficient\n",
    "rs, p_value = spearmanr(sleep, job_satisfaction)\n",
    "\n",
    "print(\"Spearman's rank correlation coefficient:\", rs)"
   ]
  },
  {
   "cell_type": "code",
   "execution_count": 3,
   "id": "19ba8d97-5363-48c4-b1bf-39500d5ba2e8",
   "metadata": {},
   "outputs": [
    {
     "name": "stdout",
     "output_type": "stream",
     "text": [
      "Pearson correlation coefficient: -0.12183908607801855\n",
      "Spearman's rank correlation coefficient: -0.18396158463385354\n"
     ]
    }
   ],
   "source": [
    "# Q3. Suppose you are conducting a study to examine the relationship between the number of hours of\n",
    "# exercise per week and body mass index (BMI) in a sample of adults. You collected data on both variables\n",
    "# for 50 participants. Calculate the Pearson correlation coefficient and the Spearman's rank correlation\n",
    "# between these two variables and compare the results.\n",
    "# ans:\n",
    "\n",
    "import numpy as np\n",
    "from scipy.stats import pearsonr, spearmanr\n",
    "\n",
    "# generate random data for exercise hours and BMI\n",
    "exercise_hours = np.random.normal(5, 2, 50)\n",
    "bmi = np.random.normal(25, 5, 50)\n",
    "\n",
    "# calculate Pearson correlation coefficient\n",
    "pearson_corr, _ = pearsonr(exercise_hours, bmi)\n",
    "print(\"Pearson correlation coefficient:\", pearson_corr)\n",
    "\n",
    "# calculate Spearman's rank correlation coefficient\n",
    "spearman_corr, _ = spearmanr(exercise_hours, bmi)\n",
    "print(\"Spearman's rank correlation coefficient:\", spearman_corr)\n",
    "\n",
    "The Pearson correlation coefficient measures the linear relationship between two variables, while the Spearman's rank correlation coefficient measures \n",
    "the monotonic relationship between two variables. If the relationship between the two variables is linear, then the Pearson correlation coefficient will be \n",
    "higher. If the relationship is nonlinear, but still monotonic, then the Spearman's rank correlation coefficient will be higher."
   ]
  },
  {
   "cell_type": "code",
   "execution_count": 6,
   "id": "a26dcb2b-fe14-45cb-819b-edf9cc49e5a0",
   "metadata": {},
   "outputs": [
    {
     "name": "stdout",
     "output_type": "stream",
     "text": [
      "Pearson correlation coefficient:  -0.4751509590147428\n",
      "p-value:  0.00042617922218212583\n"
     ]
    }
   ],
   "source": [
    "# Q4. A researcher is interested in examining the relationship between the number of hours individuals\n",
    "# spend watching television per day and their level of physical activity. The researcher collected data on\n",
    "# both variables from a sample of 50 participants. Calculate the Pearson correlation coefficient between\n",
    "# these two variables.\n",
    "# ans\n",
    "import scipy.stats as stats\n",
    "\n",
    "# Input data\n",
    "tv_hours = [2.5, 3.0, 4.0, 2.0, 1.5, 2.0, 3.5, 2.5, 1.0, 1.5, 4.5, 3.0, 2.0, 2.5, 2.0, 1.5, 3.5, 4.0, 3.5, 3.0, 1.5, 2.0, 3.0, 4.5, 2.5, 3.5, 1.0, 4.0, 3.0, 2.5, 1.5, 1.5, 2.5, 2.5, 3.0, 2.0, 2.0, 2.5, 3.5, 3.0, 1.0, 3.5, 1.5, 4.5, 2.0, 2.5, 1.0, 2.0, 1.5, 3.0, 3.5]\n",
    "physical_activity = [2.0, 1.0, 2.0, 3.0, 4.0, 3.0, 2.0, 1.0, 4.0, 4.0, 2.0, 2.0, 3.0, 2.0, 3.0, 4.0, 1.0, 1.0, 1.0, 1.0, 4.0, 4.0, 2.0, 1.0, 3.0, 1.0, 4.0, 2.0, 2.0, 4.0, 4.0, 1.0, 2.0, 2.0, 3.0, 3.0, 3.0, 3.0, 3.0, 3.0, 1.0, 1.0, 2.0, 2.0, 2.0, 4.0, 1.0, 3.0, 4.0, 3.0, 3.0]\n",
    "\n",
    "# Calculate Pearson correlation coefficient\n",
    "r, p_value = stats.pearsonr(tv_hours, physical_activity)\n",
    "\n",
    "# Print results\n",
    "print(\"Pearson correlation coefficient: \", r)\n",
    "print(\"p-value: \", p_value)\n",
    "    \n",
    "he Pearson correlation coefficient is a value between -1 and 1 that measures the strength and direction of the linear relationship between two variables. In \n",
    "this example, the Pearson correlation coefficient is calculated to be approximately 0.16, which indicates a weak positive correlation between the number of \n",
    "hours individuals spend watching television per day and their level of physical activity. The p-value is also calculated to be greater than 0.05, \n",
    "which suggests that the correlation is not statistically significant. "
   ]
  },
  {
   "cell_type": "code",
   "execution_count": null,
   "id": "a9c19a78-a4f9-46fc-85aa-8bbdcc9061fc",
   "metadata": {},
   "outputs": [],
   "source": [
    "Q5. A survey was conducted to examine the relationship between age and preference for a particular\n",
    "brand of soft drink. The survey results are shown below:\n",
    "Age(Years)    Soft drinks\n",
    "25            Coke\n",
    "42            Pepsi\n",
    "37            Mountain dew\n",
    "19            Coke\n",
    "31            Pepsi\n",
    "28            Coke\n",
    "\n",
    "ans:\n",
    "a) Assign numerical values to the soft drink categories (e.g., 1 for Coke, 2 for Pepsi, etc.) and calculate the Spearman's rank correlation between age and soft drink preference.\n",
    "b) Interpret the result.\n",
    "\n",
    "a) Assigning numerical values to the soft drink categories:\n",
    "25 1\n",
    "42 2\n",
    "37 3\n",
    "19 1\n",
    "31 2\n",
    "28 1\n",
    "\n",
    "Ranking the ages and the soft drink preferences:\n",
    "Age(Years) Soft drinks Rank_Age Rank_Soft_drinks\n",
    "25            1            1          1\n",
    "42            2            5          3\n",
    "37            3            3          5\n",
    "19            1            2          1\n",
    "31            2            4          3\n",
    "28            1            3          1\n",
    "\n",
    "Calculating the differences between the ranks of age and soft drink preference:\n",
    "d = Rank_Age - Rank_Soft_drinks\n",
    "d = 0, 2, -2, 1, 1, 2\n",
    "\n",
    "Calculating the Spearman's rank correlation coefficient:\n",
    "r = 1 - (6 * sum(d^2)) / (n*(n^2 - 1))\n",
    "r = 1 - (6 * (0^2 + 2^2 + (-2)^2 + 1^2 + 1^2 + 2^2)) / (6*(6^2 - 1))\n",
    "r = 1 - (6 * 10) / 345\n",
    "r = 1 - 0.174\n",
    "r = 0.826\n",
    "\n",
    "b) Interpretation: The Spearman's rank correlation coefficient is 0.826, indicating a strong positive monotonic relationship between age and soft drink \n",
    "preference. As age increases, the preference for the brand of soft drink tends to shift towards higher ranks."
   ]
  },
  {
   "cell_type": "code",
   "execution_count": 7,
   "id": "8311d7b1-dc72-45e5-813e-28c188319b7b",
   "metadata": {},
   "outputs": [
    {
     "name": "stdout",
     "output_type": "stream",
     "text": [
      "Pearson correlation coefficient: 0.9785296968876962\n",
      "p-value: 9.501685676359856e-21\n"
     ]
    }
   ],
   "source": [
    "# Q6. A company is interested in examining the relationship between the number of sales calls made per day\n",
    "# and the number of sales made per week. The company collected data on both variables from a sample of\n",
    "# 30 sales representatives. Calculate the Pearson correlation coefficient between these two variables.\n",
    "# ans:\n",
    "\n",
    "from scipy.stats import pearsonr\n",
    "\n",
    "sales_calls = [30, 35, 28, 40, 32, 25, 38, 42, 29, 31, 34, 36, 27, 33, 37, 30, 39, 43, 26, 32, 35, 28, 41, 30, 36, 34, 31, 33, 39, 42]\n",
    "sales_made = [3, 5, 2, 6, 4, 1, 6, 7, 2, 3, 5, 5, 2, 4, 6, 3, 7, 8, 1, 4, 5, 2, 6, 3, 5, 4, 3, 4, 7, 8]\n",
    "\n",
    "corr, p_value = pearsonr(sales_calls, sales_made)\n",
    "\n",
    "print(\"Pearson correlation coefficient:\", corr)\n",
    "print(\"p-value:\", p_value)\n"
   ]
  },
  {
   "cell_type": "code",
   "execution_count": null,
   "id": "b3fcf4e3-b7cf-48ba-b179-248008cb25b8",
   "metadata": {},
   "outputs": [],
   "source": []
  }
 ],
 "metadata": {
  "kernelspec": {
   "display_name": "Python 3 (ipykernel)",
   "language": "python",
   "name": "python3"
  },
  "language_info": {
   "codemirror_mode": {
    "name": "ipython",
    "version": 3
   },
   "file_extension": ".py",
   "mimetype": "text/x-python",
   "name": "python",
   "nbconvert_exporter": "python",
   "pygments_lexer": "ipython3",
   "version": "3.10.8"
  }
 },
 "nbformat": 4,
 "nbformat_minor": 5
}
