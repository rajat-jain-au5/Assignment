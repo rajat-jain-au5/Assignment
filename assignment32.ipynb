{
 "cells": [
  {
   "cell_type": "code",
   "execution_count": null,
   "id": "881bae10-319f-4478-a49f-4cf0f7febf97",
   "metadata": {},
   "outputs": [],
   "source": [
    "Q1 What is the Probability density function?\n",
    "ans: \n",
    "Probability density function (PDF) is a mathematical function that describes the probability distribution of a continuous random variable.\n",
    "The PDF is defined such that the area under the curve between any two points on the x-axis represents the probability of the random variable \n",
    "taking on a value within that range. The height of the curve at a particular point on the x-axis represents the relative likelihood of the random \n",
    "variable taking on that value."
   ]
  },
  {
   "cell_type": "code",
   "execution_count": null,
   "id": "5d29c571-94aa-423f-a0f1-26e8cc4a0d57",
   "metadata": {},
   "outputs": [],
   "source": [
    "Q2. What are the types of Probability distribution?\n",
    "ans: \n",
    "There are several types of probability distributions, each with its own characteristics and applications. Here are some of the most common types:\n",
    "\n",
    "Normal distribution: Also known as the Gaussian distribution, this is a continuous probability distribution that is widely used in statistics. \n",
    "                     It is bell-shaped and symmetric, with most of the data falling within one standard deviation of the mean.\n",
    "\n",
    "1) Binomial distribution: This is a discrete probability distribution that models the number of successes in a fixed number of independent trials.\n",
    "                       It is characterized by two parameters: the probability of success in each trial and the number of trials.\n",
    "\n",
    "2) Poisson distribution: This is a discrete probability distribution that models the number of events occurring in a fixed interval of time or space.\n",
    "                      It is often used in applications such as insurance claims, customer arrivals, and defects in manufacturing.\n",
    "\n",
    "3) Exponential distribution: This is a continuous probability distribution that models the time between two successive events in a Poisson process. \n",
    "                          It is often used to model failure times in reliability engineering and the interarrival times of customers in queuing theory.\n",
    "\n",
    "4) Uniform distribution: This is a continuous probability distribution that assigns equal probability to all values within a specified range.\n",
    "                      It is often used to model situations where each value within the range is equally likely, such as rolling a fair die.\n",
    "\n"
   ]
  },
  {
   "cell_type": "code",
   "execution_count": 1,
   "id": "2de06e7c-19cc-452f-81c1-6021b59e4e18",
   "metadata": {},
   "outputs": [
    {
     "name": "stdout",
     "output_type": "stream",
     "text": [
      "0.01752830049356854\n"
     ]
    }
   ],
   "source": [
    "Q3. Write a Python function to calculate the probability density function of a normal distribution with\n",
    "given mean and standard deviation at a given point.\n",
    "ans:\n",
    "Here is a Python function that calculates the probability density function (PDF) of a normal distribution with a given mean \n",
    "and standard deviation at a given point:\n",
    "\n",
    "import math\n",
    "\n",
    "def normal_pdf(x, mu, sigma):\n",
    "    \"\"\"\n",
    "    Calculates the PDF of a normal distribution with the given mean and standard deviation at a given point.\n",
    "    \n",
    "    Parameters:\n",
    "    x (float): The point at which to calculate the PDF.\n",
    "    mu (float): The mean of the normal distribution.\n",
    "    sigma (float): The standard deviation of the normal distribution.\n",
    "    \n",
    "    Returns:\n",
    "    float: The PDF value at the given point.\n",
    "    \"\"\"\n",
    "    coefficient = 1 / (sigma * math.sqrt(2 * math.pi))\n",
    "    exponent = -0.5 * ((x - mu) / sigma) ** 2\n",
    "    pdf_value = coefficient * math.exp(exponent)\n",
    "    \n",
    "    return pdf_value\n",
    "\n",
    "pdf_value = normal_pdf(2.5, 0, 1)\n",
    "print(pdf_value)\n",
    "\n",
    "This will calculate the PDF value of a standard normal distribution (mean = 0, standard deviation = 1) at the point x = 2.5 and print the \n",
    "result to the console.\n",
    "\n"
   ]
  },
  {
   "cell_type": "code",
   "execution_count": null,
   "id": "f0095b19-431a-4db0-b9bd-0b71cb5fffaf",
   "metadata": {},
   "outputs": [],
   "source": [
    "Q4. What are the properties of Binomial distribution? Give two examples of events where binomial\n",
    "distribution can be applied.\n",
    "ans:\n",
    "The binomial distribution is a discrete probability distribution that models the number of successes in a fixed number of independent trials, \n",
    "where each trial has only two possible outcomes (success or failure). Some of the properties of the binomial distribution are:\n",
    "\n",
    "The number of trials is fixed and denoted by n.\n",
    "1. Each trial has only two possible outcomes, which are mutually exclusive and exhaustive.\n",
    "2. The probability of success is constant and denoted by p.\n",
    "3. The trials are independent of each other.\n",
    "\n",
    "Here are two examples of events where the binomial distribution can be applied:\n",
    "\n",
    "1) Flipping a coin: Suppose we flip a fair coin (i.e., the probability of getting heads is 0.5) 10 times. The number of times we get heads follows a \n",
    "binomial distribution with n = 10 and p = 0.5. We can use the binomial distribution to calculate the probability of getting a certain number of heads \n",
    "(e.g., the probability of getting exactly 5 heads).\n",
    "\n",
    "2) Quality control: A manufacturer produces a large number of electronic components, and each component can be classified as either defective or\n",
    "non-defective. A random sample of 100 components is selected, and we want to know the probability of getting a certain number of defective components.\n",
    "This situation can be modeled by a binomial distribution with n = 100 and some probability of defectiveness p. We can use the binomial distribution to\n",
    "calculate the probability of getting a certain number of defective components in the sample."
   ]
  },
  {
   "cell_type": "code",
   "execution_count": 2,
   "id": "1ca8af40-c18e-4392-a9ac-3c0073c3a685",
   "metadata": {},
   "outputs": [
    {
     "data": {
      "image/png": "[encoded data removed]",
      "text/plain": [
       "<Figure size 640x480 with 1 Axes>"
      ]
     },
     "metadata": {},
     "output_type": "display_data"
    }
   ],
   "source": [
    "Q5. Generate a random sample of size 1000 from a binomial distribution with probability of success 0.4\n",
    "and plot a histogram of the results using matplotlib.\n",
    "\n",
    "\n",
    "import numpy as np\n",
    "import matplotlib.pyplot as plt\n",
    "\n",
    "# Set the seed for reproducibility\n",
    "np.random.seed(123)\n",
    "\n",
    "# Generate a random sample of size 1000 from a binomial distribution with n=1 and p=0.4\n",
    "sample = np.random.binomial(n=1, p=0.4, size=1000)\n",
    "\n",
    "# Plot a histogram of the results\n",
    "plt.hist(sample, bins=2, edgecolor='black')\n",
    "plt.xlabel('Success/Failure')\n",
    "plt.ylabel('Frequency')\n",
    "plt.title('Binomial Distribution (n=1, p=0.4)')\n",
    "\n",
    "plt.show()"
   ]
  },
  {
   "cell_type": "code",
   "execution_count": 3,
   "id": "22e9a889-e45a-4533-bae7-c972f6346581",
   "metadata": {},
   "outputs": [
    {
     "name": "stdout",
     "output_type": "stream",
     "text": [
      "0.8088468305380581\n"
     ]
    }
   ],
   "source": [
    "Q6. Write a Python function to calculate the cumulative distribution function of a Poisson distribution\n",
    "with given mean at a given point.\n",
    "ans:\n",
    "import math\n",
    "\n",
    "def poisson_cdf(x, mu):\n",
    "    \"\"\"\n",
    "    Calculates the CDF of a Poisson distribution with the given mean at a given point.\n",
    "    \n",
    "    Parameters:\n",
    "    x (int): The point at which to calculate the CDF.\n",
    "    mu (float): The mean of the Poisson distribution.\n",
    "    \n",
    "    Returns:\n",
    "    float: The CDF value at the given point.\n",
    "    \"\"\"\n",
    "    cdf_value = 0\n",
    "    \n",
    "    for i in range(x + 1):\n",
    "        probability = math.exp(-mu) * (mu ** i) / math.factorial(i)\n",
    "        cdf_value += probability\n",
    "    \n",
    "    return cdf_value\n",
    "\n",
    "cdf_value = poisson_cdf(2, 1.5)\n",
    "print(cdf_value)\n",
    "\n",
    "This will calculate the CDF value of a Poisson distribution with mean 1.5 at the point x = 2 and print the result to the console."
   ]
  },
  {
   "cell_type": "code",
   "execution_count": null,
   "id": "d2048738-9f98-46f2-bd5a-8b82c3d37df8",
   "metadata": {},
   "outputs": [],
   "source": [
    "Q7. How Binomial distribution different from Poisson distribution?\n",
    "ans:\n",
    "The Binomial and Poisson distributions are two common discrete probability distributions that are used to model the number of occurrences of an event.\n",
    "\n",
    "The main difference between the two distributions is the underlying assumptions about the probability of the event. The Binomial distribution assumes \n",
    "that the probability of the event is constant and independent across trials, while the Poisson distribution assumes that the probability of the event \n",
    "varies with the time or space interval being considered, but the average rate of occurrence is constant.\n",
    "\n",
    "Some key differences between the two distributions are:\n",
    "\n",
    "1.Number of trials: The Binomial distribution models the number of successes in a fixed number of independent trials, while the Poisson distribution \n",
    "models the number of occurrences of an event in a fixed time or space interval.\n",
    "\n",
    "2.Probability of success: In the Binomial distribution, the probability of success is constant and denoted by p, while in the Poisson distribution, \n",
    "the probability of occurrence of an event can vary with the interval being considered.\n",
    "\n",
    "3.Mean and variance: For the Binomial distribution, the mean and variance are both equal to np, where n is the number of trials and p is the probability \n",
    "of success. For the Poisson distribution, the mean and variance are both equal to λ, where λ is the average rate of occurrence of the event.\n",
    "\n",
    "4.Assumptions: The Binomial distribution assumes that the trials are independent and identically distributed with a constant probability of success, while \n",
    "the Poisson distribution assumes that the occurrence of the event follows a Poisson process, where the probability of occurrence in any interval depends \n",
    "on the length of the interval and is proportional to the average rate of occurrence."
   ]
  },
  {
   "cell_type": "code",
   "execution_count": 4,
   "id": "7416c504-d33c-4000-972a-e67e56e1c49b",
   "metadata": {},
   "outputs": [
    {
     "name": "stdout",
     "output_type": "stream",
     "text": [
      "Sample mean: 4.956\n",
      "Sample variance: 5.137201201201202\n"
     ]
    }
   ],
   "source": [
    "Q8. Generate a random sample of size 1000 from a Poisson distribution with mean 5 and calculate the\n",
    "sample mean and variance.\n",
    "ans:\n",
    "import numpy as np\n",
    "\n",
    "# Generate a random sample of size 1000 from a Poisson distribution with mean 5\n",
    "sample = np.random.poisson(lam=5, size=1000)\n",
    "\n",
    "# Calculate the sample mean and variance\n",
    "sample_mean = np.mean(sample)\n",
    "sample_var = np.var(sample, ddof=1)  # ddof=1 for sample variance\n",
    "\n",
    "print(\"Sample mean:\", sample_mean)\n",
    "print(\"Sample variance:\", sample_var)"
   ]
  },
  {
   "cell_type": "code",
   "execution_count": null,
   "id": "b374c916-1ae1-460a-8383-f658dac2218d",
   "metadata": {},
   "outputs": [],
   "source": [
    "Q9. How mean and variance are related in Binomial distribution and Poisson distribution?\n",
    "ans:\n",
    "In the Binomial distribution, the mean and variance are both equal to np, where n is the number of trials and p is the probability of success. Therefore,\n",
    "the variance is directly proportional to the number of trials and the probability of success.\n",
    "\n",
    "In the Poisson distribution, the mean and variance are both equal to λ, where λ is the average rate of occurrence of the event. Therefore, \n",
    "the variance is directly proportional to the average rate of occurrence of the event.\n",
    "\n",
    "In both distributions, the variance provides a measure of the spread or variability of the distribution around the mean. A higher variance \n",
    "indicates a more spread out distribution, while a lower variance indicates a more tightly clustered distribution around the mean.\n",
    "\n",
    "However, its worth noting that the Poisson distribution is often used to approximate the Binomial distribution when the number of trials \n",
    "is large and the probability of success is small, and in this case, the mean and variance of the Poisson distribution are approximately equal to np.\n",
    "Therefore, in some cases, the mean and variance can be closely related in both distributions."
   ]
  },
  {
   "cell_type": "code",
   "execution_count": null,
   "id": "f8aba78b-4a4e-43bd-a7b6-6926597ce663",
   "metadata": {},
   "outputs": [],
   "source": [
    "Q10. In normal distribution with respect to mean position, where does the least frequent data appear?\n",
    "ans\n",
    "In a normal distribution, the least frequent data appears in the tails of the distribution, which are the regions that are farthest away from the mean.\n",
    "\n",
    "The normal distribution is a symmetric probability distribution that is characterized by its mean and standard deviation. The mean represents the center \n",
    "of the distribution, while the standard deviation represents the spread or variability of the distribution around the mean.\n",
    "\n",
    "In a standard normal distribution (where the mean is 0 and the standard deviation is 1), the least frequent data appears in the tails of the distribution,\n",
    "which are the regions that are more than 2 or 3 standard deviations away from the mean. These data points are considered outliers \n",
    "and are less likely to occur in a random sample from the distribution.\n",
    "\n",
    "In a normal distribution with a non-zero mean, the location of the least frequent data depends on the value of the mean and the standard deviation of the distribution. However, the general pattern is that the tails of the distribution contain the least frequent data, with the frequency of data decreasing as you move farther away from the mean in either direction."
   ]
  }
 ],
 "metadata": {
  "kernelspec": {
   "display_name": "Python 3 (ipykernel)",
   "language": "python",
   "name": "python3"
  },
  "language_info": {
   "codemirror_mode": {
    "name": "ipython",
    "version": 3
   },
   "file_extension": ".py",
   "mimetype": "text/x-python",
   "name": "python",
   "nbconvert_exporter": "python",
   "pygments_lexer": "ipython3",
   "version": "3.10.8"
  }
 },
 "nbformat": 4,
 "nbformat_minor": 5
}
