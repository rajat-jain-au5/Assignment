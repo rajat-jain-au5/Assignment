{
 "cells": [
  {
   "cell_type": "code",
   "execution_count": null,
   "id": "05e226a8-ef88-4fcd-b914-01b7bf515205",
   "metadata": {},
   "outputs": [],
   "source": [
    "Q1.  What is Abstraction in OOps? Explain with an example.\n",
    "ans: Abstraction is the process of hiding the internal details of an application from the outer world. \n",
    "     Abstraction is used to describe things in simple terms. It’s used to create a boundary between the application and the client programs.\n",
    "     for example :- \n",
    "     Your car is a great example of abstraction. You can start a car by turning the key or pressing the start button. \n",
    "     You don’t need to know how the engine is getting started, what all components your car has. The car internal implementation \n",
    "     and complex logic is completely hidden from the user."
   ]
  },
  {
   "cell_type": "code",
   "execution_count": null,
   "id": "9157ea5d-7878-4681-b19c-975b3a1b68ed",
   "metadata": {},
   "outputs": [],
   "source": [
    "Q2.  Differentiate between Abstraction and Encapsulation. Explain with an example.\n",
    "ans: Abstraction refers to the process of hiding implementation details and showing only essential information to the user. It provides a simplified view of complex data structures and systems. The idea behind abstraction is to focus on what the system does, not how it does it. \n",
    "     For example, a computer user does not need to know how the computer is functioning internally to perform basic operations like typing or browsing the internet.\n",
    "\n",
    "     Encapsulation, on the other hand, refers to the process of wrapping data and functions within a single unit or object. The objective of encapsulation is to hide the implementation details from the outside world and protect the internal data from being modified or corrupted. \n",
    "     An example of encapsulation is the use of classes in programming. \n",
    "    \n",
    "     A class encapsulates data and methods related to a particular object, making it easier for the programmer to manipulate and reuse code.\n",
    "     In conclusion, Abstraction focuses on hiding the complexity of a system and presenting only the necessary information, while Encapsulation focuses on wrapping data and functions within a single unit, making it easier to manage and manipulate."
   ]
  },
  {
   "cell_type": "code",
   "execution_count": null,
   "id": "55b7a688-0c63-4c64-80b1-f83e2bc2dce0",
   "metadata": {},
   "outputs": [],
   "source": [
    "Q3.  What is abc module in python? Why is it used?\n",
    "ans: The abc (Abstract Base Class) module in Python is a module that provides the infrastructure for defining abstract base classes. It is a module for creating abstract base classes in Python, \n",
    "     which are classes that cannot be instantiated but provide a common interface for their subclasses.\n",
    "     For example, let's say we have a set of classes that represent different types of shapes. We want to enforce a common interface between these classes such as a method to calculate the area and perimeter of the shape. To do this, we create an abstract base class, Shape, and define the interface methods, such as calculate_area and calculate_perimeter, in it. \n",
    "     Now, every class that represents a shape must implement these methods."
   ]
  },
  {
   "cell_type": "code",
   "execution_count": null,
   "id": "39b4296d-2205-44af-876c-84c06502347e",
   "metadata": {},
   "outputs": [],
   "source": [
    "Q4.  How can we achieve data abstraction?\n",
    "ans: Data abstraction is the process of hiding the implementation details of a data structure or system and only showing the essential information to the user. There are several ways to achieve data abstraction in programming:\n",
    "     \n",
    "   1.Abstraction using Classes: Classes in object-oriented programming provide a mechanism for abstraction by allowing the programmer to define the data structure and its behavior in one place. The implementation details are hidden within \n",
    "     the class and the user can interact with the class using its public methods.\n",
    "\n",
    "   2.Abstraction using Interfaces: Interfaces in object-oriented programming provide a way to define a set of common methods that must be implemented by any class that implements the interface. This allows for abstraction by enforcing \n",
    "     a common interface for a set of related classes.\n",
    "\n",
    "   3.Abstraction using Modules: Modules in programming allow for abstraction by grouping related functions and data together in a single unit. This allows the programmer to hide the implementation details of a module and only expose \n",
    "     the necessary functions to the user.\n",
    "\n",
    "   4.Abstraction using Abstract Data Types (ADT): An abstract data type (ADT) is a data structure that defines a set of operations that can be performed on it. The implementation details are hidden from the user and the user can only \n",
    "     interact with the data structure through the defined operations.\n",
    "\n",
    "   In conclusion, data abstraction can be achieved in programming through the use of classes, interfaces, modules, and abstract data types. These mechanisms allow for the hiding of implementation details and presenting only essential information \n",
    "   to the user, making it easier to manage and maintain code."
   ]
  },
  {
   "cell_type": "code",
   "execution_count": null,
   "id": "3a7cecfa-4c62-45c9-9825-9255b4eaeeb6",
   "metadata": {},
   "outputs": [],
   "source": []
  }
 ],
 "metadata": {
  "kernelspec": {
   "display_name": "Python 3 (ipykernel)",
   "language": "python",
   "name": "python3"
  },
  "language_info": {
   "codemirror_mode": {
    "name": "ipython",
    "version": 3
   },
   "file_extension": ".py",
   "mimetype": "text/x-python",
   "name": "python",
   "nbconvert_exporter": "python",
   "pygments_lexer": "ipython3",
   "version": "3.10.8"
  }
 },
 "nbformat": 4,
 "nbformat_minor": 5
}
