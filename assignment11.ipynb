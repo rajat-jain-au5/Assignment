{
 "cells": [
  {
   "cell_type": "code",
   "execution_count": null,
   "id": "c6a0cf43-0ef1-4e89-9b07-970c237b6c81",
   "metadata": {},
   "outputs": [],
   "source": [
    "Q1. Which function is used to open a file? What are the different modes of opening a file? Explain each mode\n",
    "of file opening.\n",
    "ans: \n",
    "In Python, the open() function is used to open a file. The open() function takes two required arguments: the name of the file to be opened and the mode in which to open the file.\n",
    "\n",
    "There are several modes in which you can open a file in Python:\n",
    "\"r\" (Read Only): This mode is used to open a file for reading only. If the file does not exist, an error is raised. This is the default mode if no mode is specified.\n",
    "\n",
    "\"w\" (Write Only): This mode is used to open a file for writing only. If the file already exists, its contents are overwritten. If the file does not exist, a new file is created.\n",
    "\n",
    "\"a\" (Append Only): This mode is used to open a file for writing only, but the contents are appended to the end of the file if it already exists. If the file does not exist, a new file is created.\n",
    "\n",
    "\"x\" (Exclusive Creation): This mode is used to open a file for writing only, but only if the file does not already exist. If the file already exists, an error is raised.\n",
    "\n",
    "\"b\" (Binary): This mode is used to open a file in binary mode, which is useful for reading or writing binary data, such as image or audio files. You can combine the \"b\" mode with other modes, such as \"rb\" (read-only binary), \"wb\" (write-only binary), and so on.\n",
    "\n",
    "\"t\" (Text): This mode is used to open a file in text mode, which is useful for reading or writing text data. You can combine the \"t\" mode with other modes, such as \"rt\" (read-only text), \"wt\" (write-only text), and so on.\n"
   ]
  },
  {
   "cell_type": "code",
   "execution_count": null,
   "id": "c0879502-56a6-439a-97f2-bd7cc8ecd58c",
   "metadata": {},
   "outputs": [],
   "source": [
    "Q2. Why close() function is used? Why is it important to close a file?\n",
    "ans: The close() function is used to close a file in Python. Closing a file is an important step because \n",
    "     it ensures that all data written to the file is properly stored and that system resources used by the file are freed.\n",
    "    closing a file is important because it:\n",
    "    1.Releases system resources used by the file\n",
    "    2.Ensures that all data written to the file is properly stored\n",
    "    3.Minimizes the risk of resource leaks and other issues"
   ]
  },
  {
   "cell_type": "code",
   "execution_count": null,
   "id": "e34e0610-cdcc-4ffb-925f-f0d713dc4950",
   "metadata": {},
   "outputs": [],
   "source": [
    "Q3. Write a python program to create a text file. Write ‘I want to become a Data Scientist’ in that file. Then\n",
    "close the file. Open this file and read the content of the file.\n",
    "ans: \n",
    "f=open('test.txt','w')\n",
    "f.write('I want to become a Data Scientist')\n",
    "f.close()\n",
    "f=open('test.txt','r')\n",
    "f.read()\n"
   ]
  },
  {
   "cell_type": "code",
   "execution_count": null,
   "id": "ccd8f534-57b3-4abe-9e24-e98096fc82b9",
   "metadata": {},
   "outputs": [],
   "source": [
    "Q4. Explain the following with python code: read(), readline() and readlines().\n",
    "ans: In Python, there are three functions you can use to read the contents of a file: read(), readline(), and readlines().\n",
    "\n",
    "read(): The read() function reads the entire contents of a file and returns it as a single string. For example:\n",
    "with open(\"file.txt\", \"r\") as file:\n",
    "    content = file.read()\n",
    "    print(content)\n",
    "    \n",
    "readline(): The readline() function reads a single line from a file and returns it as a string. You can call readline() \n",
    "            repeatedly to read the entire contents of the file line by line. For example:\n",
    "with open(\"file.txt\", \"r\") as file:\n",
    "    line = file.readline()\n",
    "    while line:\n",
    "        print(line)\n",
    "        line = file.readline()\n",
    "    \n",
    "readlines(): The readlines() function reads the entire contents of a file and returns it as a list of strings,\n",
    "             where each string is a line from the file. For example:\n",
    "with open(\"file.txt\", \"r\") as file:\n",
    "    lines = file.readlines()\n",
    "    print(lines)"
   ]
  },
  {
   "cell_type": "code",
   "execution_count": null,
   "id": "58fc091a-dcc5-4045-89d2-7ef8c528b751",
   "metadata": {},
   "outputs": [],
   "source": [
    "Q5. Explain why with statement is used with open(). What is the advantage of using with statement and open() together?\n",
    "ans: The with statement is used in conjunction with the open() function in Python to ensure that a file is properly closed even if an error occurs while you're working with it. \n",
    "     The with statement provides a convenient way to manage file objects in Python and makes it easy to write exception-safe code that automatically closes files, \n",
    "     even in the face of exceptions.\n",
    "     When you use the with statement, Python automatically takes care of closing the file for you, even if an exception occurs. This helps to prevent resource leaks, \n",
    "     which can lead to issues such as data corruption and performance degradation   "
   ]
  },
  {
   "cell_type": "code",
   "execution_count": null,
   "id": "1e699937-b1f9-495f-8e14-4f300e85918b",
   "metadata": {},
   "outputs": [],
   "source": [
    "Q6. Explain the write() and writelines() functions. Give a suitable example.\n",
    "ans: In Python, the write() and writelines() functions are used to write data to a file.\n",
    "\n",
    "write(): The write() function writes a string to a file. For example:\n",
    "with open(\"file.txt\", \"w\") as file:\n",
    "    file.write(\"Hello, world!\")\n",
    "\n",
    "writelines(): The writelines() function writes a sequence of strings to a file. For example:\n",
    "with open(\"file.txt\", \"w\") as file:\n",
    "    lines = [\"Hello, world!\", \"How are you?\"]\n",
    "    file.writelines(lines)"
   ]
  }
 ],
 "metadata": {
  "kernelspec": {
   "display_name": "Python 3 (ipykernel)",
   "language": "python",
   "name": "python3"
  },
  "language_info": {
   "codemirror_mode": {
    "name": "ipython",
    "version": 3
   },
   "file_extension": ".py",
   "mimetype": "text/x-python",
   "name": "python",
   "nbconvert_exporter": "python",
   "pygments_lexer": "ipython3",
   "version": "3.10.8"
  }
 },
 "nbformat": 4,
 "nbformat_minor": 5
}
