{
 "cells": [
  {
   "cell_type": "code",
   "execution_count": null,
   "id": "28afdabe-d697-437f-a735-7ad02a55a986",
   "metadata": {},
   "outputs": [],
   "source": [
    "Q1, Create a vehicle class with an init method having instance variables as name_of_vehicle, max_speed\n",
    "and average_of_vehicle.\n",
    "ans:\n",
    "class Vehicle:\n",
    "    def __init__(self, name_of_vehicle, max_speed, average_of_vehicle):\n",
    "        self.name_of_vehicle = name_of_vehicle\n",
    "        self.max_speed = max_speed\n",
    "        self.average_of_vehicle = average_of_vehicle"
   ]
  },
  {
   "cell_type": "code",
   "execution_count": null,
   "id": "fff6b9d5-c4df-450d-b3d9-bf3c459c4bb0",
   "metadata": {},
   "outputs": [],
   "source": [
    "Q2. Create a child class car from the vehicle class created in Que 1, which will inherit the vehicle class.\n",
    "Create a method named seating_capacity which takes capacity as an argument and returns the name of\n",
    "the vehicle and its seating capacity.\n",
    "ans:\n",
    "class Car(Vehicle):\n",
    "    def __init__(self, make, model,  engine_capacity):\n",
    "        self.make=make\n",
    "        self.model=model\n",
    "        self.engine_capacity=engine_capacity\n",
    "        \n",
    "    def seating_capacity(self, capacity):\n",
    "        return f\"{self.name} has a seating capacity of {capacity} passengers.\"\n",
    "    \n",
    "car = Car(\"Toyota\", \"Camry\",  3.5)\n",
    "print(car.seating_capacity(5)) # The vehicle is a Toyota Camry and its seating capacity is 5"
   ]
  },
  {
   "cell_type": "code",
   "execution_count": null,
   "id": "0835ffe3-2015-4a0e-80c9-546c4a8d0561",
   "metadata": {},
   "outputs": [],
   "source": [
    "Q3. What is multiple inheritance? Write a python code to demonstrate multiple inheritance.\n",
    "ans Multiple inheritance is a feature in object-oriented programming where a class can inherit properties and methods from multiple parent classes. \n",
    "    This allows for the creation of complex class hierarchies and enables code reuse.\n",
    "class Parent1:\n",
    "    def __init__(self,property1):\n",
    "        self.property1 = \"Parent1 property\"\n",
    "\n",
    "    def method1(self):\n",
    "        print(\"This is method1 from Parent1\")\n",
    "\n",
    "class Parent2:\n",
    "    def __ini__t(self,property2):\n",
    "        self.property2 = \"Parent2 property\"\n",
    "\n",
    "    def method2(self):\n",
    "        print(\"This is method2 from Parent2\")\n",
    "\n",
    "class Child(Parent1, Parent2):\n",
    "    def __init__(self):\n",
    "        \n",
    "\n",
    "Parent1.init(self)\n",
    "Parent2.init(self)\n",
    "\n",
    "def method3(self):\n",
    "print(\"This is method3 from Child\")\n"
   ]
  },
  {
   "cell_type": "code",
   "execution_count": null,
   "id": "748cb7fa-4d13-4ce9-bc58-8bb973c659d9",
   "metadata": {},
   "outputs": [],
   "source": [
    "Q4. What are getter and setter in python? Create a class and create a getter and a setter method in this\n",
    "class.\n",
    "ans: Getter and setter methods in Python are used to access and modify the properties of an object. A getter method is used to retrieve the value of a property,\n",
    "     while a setter method is used to set or change the value of a property. These methods can be used to add additional logic or validation when accessing or \n",
    "     modifying the properties of an object.\n",
    "Here is a class with a getter and setter method:\n",
    "\n",
    "class Person:\n",
    "    def __init__(self, name):\n",
    "        self.__name = name\n",
    "\n",
    "    def get_name(self):\n",
    "        return self.__name\n",
    "\n",
    "    def set_name(self, name):\n",
    "        if isinstance(name, str):\n",
    "            self.__name = name\n",
    "        else:\n",
    "            raise TypeError(\"Name must be a string\")\n",
    "\n",
    "# example usage\n",
    "person = Person(\"John\")\n",
    "print(person.get_name()) # John\n",
    "person.set_name(\"Jane\")\n",
    "print(person.get_name()) # Jane\n",
    "person.set_name(123) # raises TypeError: Name must be a string"
   ]
  },
  {
   "cell_type": "code",
   "execution_count": null,
   "id": "1117126c-aea9-4f00-a414-34e7536ab4bc",
   "metadata": {},
   "outputs": [],
   "source": [
    "Q5. What is method overriding in python? Write a python code to demonstrate method overriding.\n",
    "ans Method overriding is a feature in object-oriented programming where a subclass can provide a new implementation for a method that is already defined in its parent class.\n",
    "    This allows for the subclass to change the behavior of the method in a way that is specific to its needs.\n",
    "\n",
    "Here is a python code to demonstrate method overriding:\n",
    "\n",
    "class Parent:\n",
    "    def method(self):\n",
    "        print(\"This is the method in Parent\")\n",
    "\n",
    "class Child(Parent):\n",
    "    def method(self):\n",
    "    print(\"This is the method in Child\")\n",
    "\n",
    "\n",
    "child = Child()\n",
    "child.method() # This is the method in Child"
   ]
  }
 ],
 "metadata": {
  "kernelspec": {
   "display_name": "Python 3 (ipykernel)",
   "language": "python",
   "name": "python3"
  },
  "language_info": {
   "codemirror_mode": {
    "name": "ipython",
    "version": 3
   },
   "file_extension": ".py",
   "mimetype": "text/x-python",
   "name": "python",
   "nbconvert_exporter": "python",
   "pygments_lexer": "ipython3",
   "version": "3.10.8"
  }
 },
 "nbformat": 4,
 "nbformat_minor": 5
}
