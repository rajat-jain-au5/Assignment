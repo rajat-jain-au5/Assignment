{
 "cells": [
  {
   "cell_type": "code",
   "execution_count": 8,
   "id": "ecba6655-8b68-4818-b4c1-db8cbbee8550",
   "metadata": {},
   "outputs": [],
   "source": [
    "# Consider the below code to answer further questions:\n",
    "import numpy as np\n",
    "list_ = [ '1','2','3','4','5' ]\n",
    "array_list = np.array(object = list_)"
   ]
  },
  {
   "cell_type": "code",
   "execution_count": 9,
   "id": "7763f33c-9b56-4f24-bca7-d21284a15c59",
   "metadata": {},
   "outputs": [
    {
     "data": {
      "text/plain": [
       "dtype('<U1')"
      ]
     },
     "execution_count": 12,
     "metadata": {},
     "output_type": "execute_result"
    }
   ],
   "source": [
    "Q1. Is there any difference in the data type of variables list_ and array_list? If there is then write a code\n",
    "to print the data types of both the variables.\n",
    "ans:- Yes both variable have different data types.\n",
    "array_list.dtype"
   ]
  },
  {
   "cell_type": "code",
   "execution_count": 15,
   "id": "3e5caf1b-cc76-47d0-92f7-a2244ea24dd1",
   "metadata": {},
   "outputs": [
    {
     "data": {
      "text/plain": [
       "list"
      ]
     },
     "execution_count": 15,
     "metadata": {},
     "output_type": "execute_result"
    }
   ],
   "source": [
    "type(list_)"
   ]
  },
  {
   "cell_type": "code",
   "execution_count": 16,
   "id": "7648a2f4-ae8e-44b9-84f4-4354d1dd9230",
   "metadata": {},
   "outputs": [
    {
     "name": "stdout",
     "output_type": "stream",
     "text": [
      "The data type of element 0 of list_ is <class 'str'>\n",
      "The data type of element 1 of list_ is <class 'str'>\n",
      "The data type of element 2 of list_ is <class 'str'>\n",
      "The data type of element 3 of list_ is <class 'str'>\n",
      "The data type of element 4 of list_ is <class 'str'>\n",
      "The data type of element 0 of array_list is <U1\n",
      "The data type of element 1 of array_list is <U1\n",
      "The data type of element 2 of array_list is <U1\n",
      "The data type of element 3 of array_list is <U1\n",
      "The data type of element 4 of array_list is <U1\n"
     ]
    }
   ],
   "source": [
    "Q2. Write a code to print the data type of each and every element of both the variables list_ and\n",
    "arra_list.\n",
    "\n",
    "# printing the data type of each element of the list\n",
    "for i in range(len(list_)):\n",
    "    print(f\"The data type of element {i} of list_ is {type(list_[i])}\")\n",
    "\n",
    "# printing the data type of each element of the numpy array\n",
    "for i in range(len(array_list)):\n",
    "    print(f\"The data type of element {i} of array_list is {array_list[i].dtype}\")\n"
   ]
  },
  {
   "cell_type": "code",
   "execution_count": 21,
   "id": "c6b0d949-ae0f-4a7b-98e6-912aa11b87dd",
   "metadata": {},
   "outputs": [
    {
     "name": "stdout",
     "output_type": "stream",
     "text": [
      "The data type of element 0 of list_ is <class 'str'>\n",
      "The data type of element 1 of list_ is <class 'str'>\n",
      "The data type of element 2 of list_ is <class 'str'>\n",
      "The data type of element 3 of list_ is <class 'str'>\n",
      "The data type of element 4 of list_ is <class 'str'>\n",
      "The data type of element 0 of array_list is int64\n",
      "The data type of element 1 of array_list is int64\n",
      "The data type of element 2 of array_list is int64\n",
      "The data type of element 3 of array_list is int64\n",
      "The data type of element 4 of array_list is int64\n"
     ]
    }
   ],
   "source": [
    "Q3. Considering the following changes in the variable, array_list:\n",
    "array_list = np.array(object = list_, dtype = int)\n",
    "Will there be any difference in the data type of the elements present in both the variables, list_ and array_list? If so then print the data types of each and every element present in both the variables, list_\n",
    "and array_list.\n",
    "ans: Yes, there will be a difference in the data type of the elements present in both variables list_ and array_list.\n",
    "for i in range(len(list_)):\n",
    "    print(f\"The data type of element {i} of list_ is {type(list_[i])}\")\n",
    "\n",
    "# printing the data type of each element of the numpy array\n",
    "for i in range(len(array_list)):\n",
    "    print(f\"The data type of element {i} of array_list is {array_list[i].dtype}\")"
   ]
  },
  {
   "cell_type": "code",
   "execution_count": 26,
   "id": "633a4475-07ed-46ff-bae0-16ec58d4a0e1",
   "metadata": {},
   "outputs": [
    {
     "name": "stdout",
     "output_type": "stream",
     "text": [
      "(2, 3)\n",
      "6\n"
     ]
    }
   ],
   "source": [
    "Consider the below code to answer further questions:\n",
    "import numpy as np\n",
    "num_list = [ [ 1 , 2 , 3 ] , [ 4 , 5 , 6 ] ]\n",
    "num_array = np.array(object = num_list)\n",
    "Q4. Write a code to find the following characteristics of variable, num_array:\n",
    "# (i) shape\n",
    "print(num_array.shape)\n",
    "# (ii) size\n",
    "print(num_array.size)"
   ]
  },
  {
   "cell_type": "code",
   "execution_count": 30,
   "id": "e1aee4da-dc1c-4f6f-a29a-c3f7b13d6204",
   "metadata": {},
   "outputs": [
    {
     "name": "stdout",
     "output_type": "stream",
     "text": [
      "[[0. 0. 0.]\n",
      " [0. 0. 0.]\n",
      " [0. 0. 0.]]\n",
      "(3, 3)\n"
     ]
    }
   ],
   "source": [
    "Q5. Write a code to create numpy array of 3*3 matrix containing zeros only, using a numpy array\n",
    "creation function.\n",
    "[Hint: The size of the array will be 9 and the shape will be (3,3).]\n",
    "ans :\n",
    "\n",
    "arr=np.zeros((3,3))\n",
    "print(arr)\n",
    "print(arr.shape)"
   ]
  },
  {
   "cell_type": "code",
   "execution_count": 32,
   "id": "a3876e37-e849-466c-9c8f-29b23df260f2",
   "metadata": {},
   "outputs": [
    {
     "data": {
      "text/plain": [
       "array([[1., 0., 0., 0., 0.],\n",
       "       [0., 1., 0., 0., 0.],\n",
       "       [0., 0., 1., 0., 0.],\n",
       "       [0., 0., 0., 1., 0.],\n",
       "       [0., 0., 0., 0., 1.]])"
      ]
     },
     "execution_count": 32,
     "metadata": {},
     "output_type": "execute_result"
    }
   ],
   "source": [
    "# Q6. Create an identity matrix of shape (5,5) using numpy functions?\n",
    "# [Hint: An identity matrix is a matrix containing 1 diagonally and other elements will be 0.]\n",
    "\n",
    "np.eye(5)"
   ]
  },
  {
   "cell_type": "code",
   "execution_count": null,
   "id": "02a0c50d-2755-4fe8-aa6c-b3beb12e3973",
   "metadata": {},
   "outputs": [],
   "source": []
  }
 ],
 "metadata": {
  "kernelspec": {
   "display_name": "Python 3 (ipykernel)",
   "language": "python",
   "name": "python3"
  },
  "language_info": {
   "codemirror_mode": {
    "name": "ipython",
    "version": 3
   },
   "file_extension": ".py",
   "mimetype": "text/x-python",
   "name": "python",
   "nbconvert_exporter": "python",
   "pygments_lexer": "ipython3",
   "version": "3.10.8"
  }
 },
 "nbformat": 4,
 "nbformat_minor": 5
}
