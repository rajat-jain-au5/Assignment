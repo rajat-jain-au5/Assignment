{
 "cells": [
  {
   "cell_type": "code",
   "execution_count": null,
   "id": "9148787b-a9da-4742-88bb-6caf59bf1256",
   "metadata": {},
   "outputs": [],
   "source": [
    "Q1. What is an Exception in python? Write the difference between Exceptions and syntax errors?\n",
    "ans: An exception in Python is an error that occurs during the execution of a program. It interrupts the normal flow of the program and can be handled using try-except blocks.\n",
    "     The main difference between exceptions and syntax errors is that syntax errors occur when the code is being parsed or compiled, while exceptions occur during the execution of the program.\n",
    "     Exceptions can also be categorized into different types, such as built-in exceptions (e.g. ValueError, TypeError), user-defined exceptions, and system-exiting exceptions (e.g. SystemExit, KeyboardInterrupt). \n",
    "     These types of exceptions can be caught and handled differently depending on the requirements of the program."
   ]
  },
  {
   "cell_type": "code",
   "execution_count": null,
   "id": "1654ac66-8ff7-4382-806e-1a6dad5ad1e7",
   "metadata": {},
   "outputs": [],
   "source": [
    "Q2. What happens when an exception is not handled? Explain with an example.\n",
    "ans: If an exception is not handled, it will cause the program to terminate abruptly with an error message, and the rest of the program will not be executed. This behavior can be problematic because it leaves the user without any feedback or indication of what went wrong, \n",
    "     making it challenging to diagnose and fix the issue. For example, suppose we have a program that opens a file and reads its contents but encounters an error due to the file not existing or some other reason. If the program does not handle this exception, it will crash \n",
    "     and display an error message to the user, leaving them without any indication of what went wrong or how to fix it. In contrast, if the program had a try-except block to handle the exception,\n",
    "     it could display a more user-friendly message or provide an option to create the file if it does not exist"
   ]
  },
  {
   "cell_type": "code",
   "execution_count": null,
   "id": "4037b0a6-704a-438f-b771-57432076bbfc",
   "metadata": {},
   "outputs": [],
   "source": [
    "Q4. Explain with an example:\n",
    "1.try and else\n",
    "2.finally\n",
    "3.raise\n",
    "ans:-\n",
    "try, except, and finally are keywords in Python that are used to handle exceptions.\n",
    "# 1.try and else:\n",
    "try :\n",
    "    f= open(\"test1.txt\" , 'r')\n",
    "    f.write(\" write into my file \" )\n",
    "except Exception  as e : \n",
    "    print(\"this is my except block \" , e)\n",
    "else : \n",
    "    f.close()\n",
    "    print(\" this will be executed once your try will execute without error\" )\n",
    "    \n",
    "# 2.finally\n",
    "try :\n",
    "    f = open(\"test3.txt\" , 'r')\n",
    "    f.write(\"write something\" )\n",
    "finally : \n",
    "    print(\"finally will execute itself in any situation\")\n",
    "    \n",
    "# 3.raise\n",
    "class validateage(Exception):\n",
    "    \n",
    "    def __init__(self,msg):\n",
    "        self.msg=msg\n",
    "\n",
    "def validateage(age):\n",
    "    if(age<0):\n",
    "        raise validateage('Age is not less than zero')  \n",
    "    elif(age>100):\n",
    "        raise validateage('Age is not more than 100')\n",
    "    else :    \n",
    "        raise validateage('Age is valid')\n",
    "        \n",
    "try :\n",
    "    age = int(input(\"enter your age\" ))\n",
    "    validaetage(age)\n",
    "except validateage as e :\n",
    "    print(e)"
   ]
  },
  {
   "cell_type": "code",
   "execution_count": null,
   "id": "1702f55b-2045-4f8c-a882-e101069dd296",
   "metadata": {},
   "outputs": [],
   "source": [
    "Q5. What are Custom Exceptions in python? Why do we need Custom Exceptions? Explain withan example.\n",
    "ans:In Python, custom exceptions are user-defined exceptions that inherit from the built-in Exception class.\n",
    "    We need custom exceptions in Python to provide more specific and meaningful error messages to the users. \n",
    "    With custom exceptions, we can raise exceptions that are tailored to the specific needs of our program or library, \n",
    "    rather than relying on the built-in exceptions that may not convey the specific nature of the error to the user.\n",
    "    for eaxmple:\n",
    "class InsufficientFundsException(Exception):\n",
    "    pass\n",
    "\n",
    "def withdraw(amount, balance):\n",
    "    if amount > balance:\n",
    "        raise InsufficientFundsException(\"You do not have sufficient funds.\")\n",
    "    else:\n",
    "        balance -= amount\n",
    "        return balance\n"
   ]
  },
  {
   "cell_type": "code",
   "execution_count": 1,
   "id": "912143f2-72e0-4925-85cc-911ee42950f1",
   "metadata": {},
   "outputs": [
    {
     "name": "stdout",
     "output_type": "stream",
     "text": [
      "Error: Cannot compute square root of a negative number\n"
     ]
    }
   ],
   "source": [
    "Q6. Create custom exception class. Use this class to handle an exception.\n",
    "class NegativeNumberException(Exception):\n",
    "    def __init__(self, message):\n",
    "        self.message = message\n",
    "        super().__init__(self.message)\n",
    "\n",
    "def square_root(number):\n",
    "    if number < 0:\n",
    "        raise NegativeNumberException(\"Cannot compute square root of a negative number\")\n",
    "    else:\n",
    "        return number ** 0.5\n",
    "\n",
    "try:\n",
    "    result = square_root(-1)\n",
    "except NegativeNumberException as e:\n",
    "    print(\"Error:\", e.message)\n",
    "else:\n",
    "    print(\"The result is:\", result)"
   ]
  },
  {
   "cell_type": "code",
   "execution_count": null,
   "id": "8e52420f-8367-485f-b26c-a1add1eda4d7",
   "metadata": {},
   "outputs": [],
   "source": []
  }
 ],
 "metadata": {
  "kernelspec": {
   "display_name": "Python 3 (ipykernel)",
   "language": "python",
   "name": "python3"
  },
  "language_info": {
   "codemirror_mode": {
    "name": "ipython",
    "version": 3
   },
   "file_extension": ".py",
   "mimetype": "text/x-python",
   "name": "python",
   "nbconvert_exporter": "python",
   "pygments_lexer": "ipython3",
   "version": "3.10.8"
  }
 },
 "nbformat": 4,
 "nbformat_minor": 5
}
