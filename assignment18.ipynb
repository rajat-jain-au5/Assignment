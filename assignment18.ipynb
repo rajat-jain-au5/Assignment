{
 "cells": [
  {
   "cell_type": "code",
   "execution_count": null,
   "id": "3f1114ea-6109-4c9f-9aed-ce0cf5a876c7",
   "metadata": {},
   "outputs": [],
   "source": [
    "Q1. What is Flask Framework? What are the advantages of Flask Framework?\n",
    "ans: \n",
    "Flask is a micro web framework for building web applications in Python. It is called \"micro\" because it does not require particular tools or libraries and it has no database abstraction layer, form validation, or any other components where pre-existing third-party libraries provide common functions.\n",
    "\n",
    "The advantages of using Flask framework include:\n",
    "\n",
    "1. Lightweight and flexible: Flask is a lightweight framework that does not come with any database abstraction layer or form validation. It allows developers to choose \n",
    "                             their own tools and libraries for various functionalities, making it highly flexible.\n",
    "\n",
    "2. Easy to use: Flask is easy to learn and use, making it a great choice for beginners in web development. Its API is simple and intuitive, and the documentation is well-organized.\n",
    "\n",
    "3. Minimal coding: Flask requires minimal coding for creating web applications, making it an efficient and time-saving option for developers.\n",
    "\n",
    "4. Modular design: Flask has a modular design that allows developers to easily customize and extend the framework to suit their needs.\n",
    "\n",
    "5. Built-in development server: Flask comes with a built-in development server, making it easy for developers to test their applications during the development process.\n",
    "\n",
    "6. Large and active community: Flask has a large and active community of developers, making it easy to find support, resources, and third-party libraries for various functionalities.\n",
    "\n",
    "7. Integrates with other tools and libraries: Flask can easily integrate with other tools and libraries, making it a great choice for building complex web applications that require various functionalities."
   ]
  },
  {
   "cell_type": "code",
   "execution_count": null,
   "id": "9c9f943d-bd0c-4c37-9ae9-1f74be9772b9",
   "metadata": {},
   "outputs": [],
   "source": [
    "Q2. Create a simple Flask application to display ‘Hello World!!’. Attach the screenshot of the output in\n",
    "Jupyter Notebook.\n",
    "ans:\n",
    "from flask import Flask\n",
    "\n",
    "app = Flask(__name__)\n",
    "\n",
    "@app.route(\"/\")\n",
    "def hello_world():\n",
    "    return \"<h1>Hello, World!</h1>\"\n",
    "\n",
    "if __name__==\"__main__\":\n",
    "    app.run(host=\"0.0.0.0\")\n",
    "    \n",
    "    \n",
    "\n"
   ]
  },
  {
   "cell_type": "code",
   "execution_count": null,
   "id": "9ad49348-65a5-4427-93dc-207a4e7ea657",
   "metadata": {},
   "outputs": [],
   "source": [
    "Q3. What is App routing in Flask? Why do we use app routes?\n",
    "ans: App routing in Flask refers to the process of mapping URLs to their corresponding functions in a Flask web application. In other words, it is the way in which Flask determines which function to execute for a given URL.\n",
    "\n",
    "App routing is achieved using the @app.route() decorator in Flask. This decorator specifies the URL or route that should trigger the execution of a particular function. The basic syntax for \n",
    "using the @app.route() decorator is as follows\n",
    "@app.route('/myroute')\n",
    "def my_function():\n",
    "    return 'Hello, world!'\n",
    "\n",
    "We use app routes in Flask for several reasons, including:\n",
    "\n",
    "1. Handling user requests: App routes allow us to handle user requests and determine which function to execute based on the URL that the user visits.\n",
    "\n",
    "2. Creating RESTful APIs: App routes allow us to create RESTful APIs in Flask by mapping specific URLs to functions that handle API requests.\n",
    "\n",
    "3. Separating concerns: App routes help us to separate the concerns of our Flask application by mapping specific URLs to specific functions. This makes our code more organized and easier to maintain.\n",
    "\n",
    "4. Supporting dynamic URLs: App routes allow us to create dynamic URLs in Flask by including variable parts in the URL. This allows us to handle requests for different resources using a single function."
   ]
  },
  {
   "cell_type": "code",
   "execution_count": null,
   "id": "33a9f884-90c2-423b-91bb-ac127b32ca59",
   "metadata": {},
   "outputs": [],
   "source": [
    "Q4. Create a “/welcome” route to display the welcome message “Welcome to ABC Corporation” and a “/”\n",
    "route to show the following details:\n",
    "Company Name: ABC Corporation\n",
    "Location: India\n",
    "Contact Detail: 999-999-9999\n",
    "Attach the screenshot of the output in Jupyter Notebook.\n",
    "ans: \n",
    "from flask import Flask\n",
    "\n",
    "app = Flask(__name__)\n",
    "\n",
    "#\n",
    "\n",
    "@app.route(\"/welcome\")\n",
    "def welcome():\n",
    "    return \"<h1>Welcome to ABC Corporation</h1>\"\n",
    "\n",
    "@app.route(\"/\")\n",
    "def hello_world():\n",
    "    return \"<h1>Company Name: ABC Corporation</h1><h1>Location: India</h1><h1>Contact Detail: 999-999-9999</h1>\"\n",
    "\n",
    "\n",
    "if __name__==\"__main__\":\n",
    "    app.run(host=\"0.0.0.0\")"
   ]
  },
  {
   "cell_type": "code",
   "execution_count": null,
   "id": "d890a4b8-f8c0-499c-8e5c-750088e0c5ea",
   "metadata": {},
   "outputs": [],
   "source": [
    "Q5. What function is used in Flask for URL Building? Write a Python code to demonstrate the working of the url_for() function.\n",
    "ans:\n",
    "the url_for() function is used in Flask for URL building. It generates a URL for the given endpoint with the method provided. \n",
    "The function accepts the endpoint name and any number of keyword arguments that match the variable parts of the URL rule.\n",
    "\n",
    "Here's an example Python code to demonstrate the working of the url_for() function:\n",
    "from flask import Flask, url_for\n",
    "\n",
    "app = Flask(__name__)\n",
    "\n",
    "@app.route('/')\n",
    "def index():\n",
    "    return 'Hello, World!'\n",
    "\n",
    "@app.route('/user/<username>')\n",
    "def profile(username):\n",
    "    return f'Hello, {username}!'\n",
    "\n",
    "with app.test_request_context():\n",
    "    print(url_for('index'))\n",
    "    print(url_for('profile', username='John Doe'))"
   ]
  }
 ],
 "metadata": {
  "kernelspec": {
   "display_name": "Python 3 (ipykernel)",
   "language": "python",
   "name": "python3"
  },
  "language_info": {
   "codemirror_mode": {
    "name": "ipython",
    "version": 3
   },
   "file_extension": ".py",
   "mimetype": "text/x-python",
   "name": "python",
   "nbconvert_exporter": "python",
   "pygments_lexer": "ipython3",
   "version": "3.10.8"
  }
 },
 "nbformat": 4,
 "nbformat_minor": 5
}
