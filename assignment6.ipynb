{
 "cells": [
  {
   "cell_type": "code",
   "execution_count": null,
   "id": "79eead2f-d7bb-4627-929c-99275601434c",
   "metadata": {},
   "outputs": [],
   "source": [
    "Q1. Explain Class and Object with respect to Object-Oriented Programming. Give a suitable example.\n",
    "ans:- Class: A class is a blueprint or a template for creating objects. It defines the properties and behaviors of objects that will be created from the class. Classes are user-defined data types and have the ability to encapsulate data and functions in a single entity.\n",
    "      Example: Consider a class named \"Car\" which has properties like model, color, year and methods like start, stop, accelerate, etc. This class can be used to create multiple objects of type Car with different values for the properties.\n",
    "\n",
    "      Object: An object is an instance of a class and is a real-world entity with its own characteristics and behaviors. Objects have their own unique properties and methods and can interact with other objects.\n",
    "      Example: Consider the \"Car\" class from the above example. A specific car, say \"Honda Civic 2021\" is an object created from the Car class. This object will have its own set of values for the properties and can perform actions through its methods."
   ]
  },
  {
   "cell_type": "code",
   "execution_count": null,
   "id": "183c2f96-e741-43a6-a4ae-2716ae99320c",
   "metadata": {},
   "outputs": [],
   "source": [
    "Q2. Name the four pillars of OOPs.\n",
    "ans: Polymorphism,Inheritance,Data encapsulation,Abstraction"
   ]
  },
  {
   "cell_type": "code",
   "execution_count": null,
   "id": "f28521f1-3fac-489f-af5d-4a98b5069137",
   "metadata": {},
   "outputs": [],
   "source": [
    "Q3. Explain why the __init__() function is used. Give a suitable example.\n",
    "ans: The __init__() function, also known as the constructor, is used to initialize the attributes of an object when it is created. \n",
    "     The __init__() function is called automatically when an object is created and is used to set the initial values of the object's attributes.\n",
    "class Person:\n",
    "    def __init__(self, name, age, gender):\n",
    "        self.name = name\n",
    "        self.age = age\n",
    "        self.gender = gender\n",
    "        \n",
    "person1 = Person(\"John Doe\", 30, \"Male\")\n",
    "print(person1.name) # Output: John Doe\n",
    "print(person1.age) # Output: 30\n",
    "print(person1.gender) # Output: Male"
   ]
  },
  {
   "cell_type": "code",
   "execution_count": null,
   "id": "dd30235c-b021-4f1a-a811-ba2469d4f1b9",
   "metadata": {},
   "outputs": [],
   "source": [
    "Q4.  Why self is used in OOPs?\n",
    "ans:-Self is used in OOPs to refer to the instance of the class. It is a reference to the current object and is used to access the attributes and methods of the current object. \n",
    "     Self is used to differentiate between the class attributes and instance attributes and to maintain the state of an object between different method calls. \n",
    "     It is a convenient way to refer to the current object, making the code more readable and maintainable."
   ]
  },
  {
   "cell_type": "code",
   "execution_count": null,
   "id": "b8f5c940-3afe-4e22-a28b-8a06c196e752",
   "metadata": {},
   "outputs": [],
   "source": [
    "Inheritance is a mechanism in object-oriented programming (OOP) that allows one class to inherit the attributes and methods of another class. There are several types of inheritance, including:\n",
    "\n",
    "1. Single inheritance: When a class inherits from a single parent class, it is called single inheritance. For example, class “Child” inherits from class “Parent”.\n",
    "\n",
    "2. Multi-level inheritance: When a class inherits from another class, which itself inherits from another class, it is called multi-level inheritance. \n",
    "For example, class “Grandchild” inherits from class “Child”, which in turn inherits from class “Parent”.\n",
    "\n",
    "3.Hierarchical inheritance: When multiple classes inherit from a single parent class, it is called hierarchical inheritance. \n",
    "For example, class “Child1” and class “Child2” both inherit from class “Parent”.\n",
    "\n",
    "4.Multiple inheritance: When a class inherits from multiple parent classes, it is called multiple inheritance. This type of inheritance is not supported in all programming languages, including Java.\n",
    "\n",
    "5.Hybrid inheritance: When a class inherits from multiple classes, some of which are inherited through single inheritance, and some of which are inherited through multi-level or hierarchical inheritance, it is called hybrid inheritance. \n",
    "For example, class “Child” inherits from class “Parent1” through single inheritance and class “Parent2” through multi-level inheritance."
   ]
  }
 ],
 "metadata": {
  "kernelspec": {
   "display_name": "Python 3 (ipykernel)",
   "language": "python",
   "name": "python3"
  },
  "language_info": {
   "codemirror_mode": {
    "name": "ipython",
    "version": 3
   },
   "file_extension": ".py",
   "mimetype": "text/x-python",
   "name": "python",
   "nbconvert_exporter": "python",
   "pygments_lexer": "ipython3",
   "version": "3.10.8"
  }
 },
 "nbformat": 4,
 "nbformat_minor": 5
}
